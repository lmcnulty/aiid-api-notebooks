{
 "cells": [
  {
   "cell_type": "markdown",
   "id": "761a1c76",
   "metadata": {},
   "source": [
    "## Making requests\n",
    "\n",
    "\n",
    "Let's start with a minimal request.\n",
    "It queries the title of every incident in the database"
   ]
  },
  {
   "cell_type": "code",
   "execution_count": 57,
   "id": "ab51ba1d",
   "metadata": {},
   "outputs": [
    {
     "data": {
      "text/plain": [
       "<Response [200]>"
      ]
     },
     "execution_count": 57,
     "metadata": {},
     "output_type": "execute_result"
    }
   ],
   "source": [
    "import requests\n",
    "minimal_example_response = requests.post(\n",
    "    'https://incidentdatabase.ai/api/graphql',\n",
    "    data='{\"query\": \"query { incidents { title } }\"}',\n",
    "    headers={\"content-type\": \"application/json\"}\n",
    ")\n",
    "minimal_example_response"
   ]
  },
  {
   "cell_type": "code",
   "execution_count": 58,
   "id": "fa2bb85e",
   "metadata": {},
   "outputs": [
    {
     "data": {
      "text/plain": [
       "'{\"data\":{\"incidents\":[{\"title\":\"Las Vegas Self-Driving Bus Involved in Accident\"},{\"title\":\"Uber AV Killed Pedestrian in Arizona\"},{\"title\":\"Google’s YouTube Kids App Presents Inappropriate Content\"},{\"title\":\"Gender Biases of Google Image Search\"},{\"title\":\"Common Biases of Vector Embeddings\"},{\"title\":\"Amazon Censors Gay Books\"},{\"title\":\"Wikipedia Vandalism Prevention Bot Loop\"},{\"title\":\"Collection of Robotic Surgery Malfunctions\"},{\"title\":\"TayBot\"},{\"title\":\"Kronos Scheduling Algorithm Allegedly Caused Financial Issues for Starbucks Employees\"},{\"title\":\"Northpointe Risk Models\"},{\"title\":\"A Collection of Tesla Autopilot-Involved Crashes\"},{\"title\":\"Robot kills worker at German Volkswagen plant\"},{\"title\":\"Biased Sentiment Analysis\"},{\"title\":\"Images of Black People Labeled as Gorillas\"},{\"title\":\"Crashes with Maneuvering Characteristics Augmentation System (MCAS)\"},{\"title\":\"Warehouse robot ruptures can of bear spray and injures workers\"},{\"title\":\"Sexist and Racist Google Adsense Advertisements\"},{\"title\":\"NY City School Teacher Evaluation Algorithm Contested\"},{\"title\":\"Uber Autonomous Cars Running Red Lights\"},{\"title\":\"High-Toxicity Assessed on Text Involving Women and Minority Groups\"},{\"title\":\"Tougher Turing Test Exposes Chatbots’ Stupidity (migrated to Issue)\"},{\"title\":\"Inappropriate Gmail Smart Reply Suggestions\"},{\"title\":\"Waze Navigates Motorists into Wildfires\"},{\"title\":\"Near-miss between two Self-Driving Cars\"},{\"title\":\"Female Applicants Down-Ranked by Amazon Recruiting Tool\"},{\"title\":\"Driverless Train in Delhi Crashes due to Braking Failure\"},{\"title\":\"Amazon Alexa Responding to Environmental Inputs\"},{\"title\":\"Nuclear False Alarm\"},{\"title\":\"Image Classification of Battle Tanks\"},{\"title\":\"Identical Twins Can Open Apple FaceID Protected Devices\"},{\"title\":\"Machine Personal Assistants Failed to Maintain Social Norms\"},{\"title\":\"Employee Automatically Terminated by Computer Program\"},{\"title\":\"LinkedIn Search Prefers Male Names\"},{\"title\":\"Passport checker Detects Asian man\\'s Eyes as Closed\"},{\"title\":\"2010 Market Flash Crash\"},{\"title\":\"Racist AI behaviour is not a new problem\"},{\"title\":\"Hackers Break Apple Face ID\"},{\"title\":\"Amazon Alexa Plays Loud Music when Owner is Away\"},{\"title\":\"Nest Smoke Alarm Erroneously Stops Alarming\"},{\"title\":\"Deepfake Obama Introduction of Deepfakes\"},{\"title\":\"Poor Performance of Tesla Factory Robots\"},{\"title\":\"Picture of Woman on Side of Bus Shamed for Jaywalking\"},{\"title\":\"All Image Captions Produced are Violent\"},{\"title\":\"Inefficiencies in the United States Resident Matching Program\"},{\"title\":\"Defamation via AutoComplete\"},{\"title\":\"Game AI System Produces Imbalanced Game\"},{\"title\":\"COMPAS Algorithm Performs Poorly in Crime Recidivism Prediction\"},{\"title\":\"Customer Service Robot Scares Away Customers\"},{\"title\":\"Sleeping Driver on Tesla AutoPilot\"},{\"title\":\"FaceApp Racial Filters\"},{\"title\":\"Predictive Policing Biases of PredPol\"},{\"title\":\"Security Robot Drowns Itself in a Fountain\"},{\"title\":\"Russian Chatbot Supports Stalin and Violence\"},{\"title\":\"Overfit Kaggle Models Discouraged Data Science Competitors\"},{\"title\":\"Tesla on AutoPilot Killed Driver in Crash in Florida while Watching Movie\"},{\"title\":\"Self-driving cars in winter\"},{\"title\":\"Gender Biases in Google Translate\"},{\"title\":\"Bad AI-Written Christmas Carols\"},{\"title\":\"Security Robot Rolls Over Child in Mall\"},{\"title\":\"Biased Google Image Results\"},{\"title\":\"Google Photo Merge Decapitates Subject\"},{\"title\":\"AI-Designed Phone Cases Are Unexpected\"},{\"title\":\"Australian Automated Debt Assessment System Issued False Notices to Thousands\"},{\"title\":\"Reinforcement Learning Reward Functions in Video Games\"},{\"title\":\"The DAO Hack\"},{\"title\":\"Google admits its self driving car got it wrong: Bus crash was caused by software\"},{\"title\":\"Alexa Plays Pornography Instead of Kids Song\"},{\"title\":\"Worker killed by robot in welding accident at car parts factory in India\"},{\"title\":\"Chinese Chatbots Question Communist Party\"},{\"title\":\"AI Beauty Judge Did Not Like Dark Skin\"},{\"title\":\"Facebook translates \\'good morning\\' into \\'attack them\\', leading to arrest\"},{\"title\":\"#LekkiMassacre: Why Facebook labelled content from October 20 incident ‘false’\"},{\"title\":\"HUD charges Facebook with enabling housing discrimination\"},{\"title\":\"AI attempts to ease fear of robots, blurts out it can’t ‘avoid destroying humankind’\"},{\"title\":\"Tiny Changes Let False Claims About COVID-19, Voting Evade Facebook Fact Checks\"},{\"title\":\"Knightscope\\'s Park Patrol Robot Ignored Bystander Pressing Emergency Button to Alert Police about Fight\"},{\"title\":\"Meet the Secret Algorithm That\\'s Keeping Students Out of College\"},{\"title\":\"Houston Schools Must Face Teacher Evaluation Lawsuit\"},{\"title\":\"\\\\\"Jewish Baby Strollers\\\\\" Provided Anti-Semitic Google Images, Allegedly Resulting from Hate Speech Campaign\"},{\"title\":\"Is Pokémon Go racist? How the app may be redlining communities of color\"},{\"title\":\"Google Instant\\'s Allegedly \\'Anti-Semitic\\' Results Lead To Lawsuit In France\"},{\"title\":\"Researchers find evidence of racial, gender, and socioeconomic bias in chest X-ray classifiers\"},{\"title\":\"Coding Errors in Leaving Certificate Grading Algorithm Caused Inaccurate Scores in Ireland\"},{\"title\":\"Detroit Police Wrongfully Arrested Black Man Due To Faulty FRT\"},{\"title\":\"Job Screening Service Halts Facial Analysis of Applicants\"},{\"title\":\"AI mistakes referee’s bald head for football — hilarity ensued\"},{\"title\":\"Spam filters are efficient and uncontroversial. Until you look at them.\"},{\"title\":\"Tesla Autopilot Mistakes Red Letters on Flag for Red Traffic Lights\"},{\"title\":\"N.Y.P.D. Robot Dog’s Run Is Cut Short After Fierce Backlash\"},{\"title\":\"Kidney Testing Method Allegedly Underestimated Risk of Black Patients\"},{\"title\":\"UK passport photo checker shows bias against dark-skinned women\"},{\"title\":\"Frontline workers protest at Stanford after hospital distributed vaccine to administrators\"},{\"title\":\"Live facial recognition is tracking kids suspected of being criminals\"},{\"title\":\"Apple Card\\'s Credit Assessment Algorithm Allegedly Discriminated against Women\"},{\"title\":\"The Christchurch shooter and YouTube’s radicalization trap\"},{\"title\":\"Court Rules Deliveroo Used \\'Discriminatory\\' Algorithm\"},{\"title\":\"Arkansas\\'s Opaque Algorithm to Allocate Health Care Excessively Cut Down Hours for Beneficiaries\"},{\"title\":\"Amazon Flex Drivers Allegedly Fired via Automated Employee Evaluations\"},{\"title\":\"California\\'s Algorithm Considered ZIP Codes in Vaccine Distribution, Allegedly Excluding Low-Income Neighborhoods and Communities of Color\"},{\"title\":\"Korean Chatbot Luda Made Offensive Remarks towards Minority Groups\"},{\"title\":\"Skating Rink’s Facial Recognition Cameras Misidentified Black Teenager as Banned Troublemaker\"},{\"title\":\"Genderify’s AI to Predict a Person’s Gender Revealed by Free API Users to Exhibit Bias\"},{\"title\":\"Amazon\\'s Rekognition Falsely Matched Members of Congress to Mugshots\"},{\"title\":\"Chinese Tech Firms Allegedly Developed Facial Recognition to Identify People by Race, Targeting Uyghur Muslims\"},{\"title\":\"Xsolla Employees Fired by CEO Allegedly via Big Data Analytics of Work Activities\"},{\"title\":\"Tesla Model 3 on Autopilot Crashed into a Ford Explorer Pickup, Killing a Fifteen-Year-Old in California\"},{\"title\":\"Major Universities Are Using Race as a “High Impact Predictor” of Student Success\"},{\"title\":\"Autonomous Kargu-2 Drone Allegedly Remotely Used to Hunt down Libyan Soldiers\"},{\"title\":\"PimEyes\\'s Facial Recognition AI Allegedly Lacked Safeguards to Prevent Itself from Being Abused\"},{\"title\":\"Dutch Families Wrongfully Accused of Tax Fraud Due to Discriminatory Algorithm\"},{\"title\":\"Twitter’s Image Cropping Tool Allegedly Showed Gender and Racial Bias\"},{\"title\":\"Facebook\\'s AI Put \\\\\"Primates\\\\\" Label on Video Featuring Black Men\"},{\"title\":\"Facebook’s \\\\\"Tag Suggestions\\\\\" Allegedly Stored Biometric Data without User Consent\"},{\"title\":\"Personal voice assistants struggle with black voices, new study shows\"},{\"title\":\"Police Departments Reported ShotSpotter as Unreliable and Wasteful\"},{\"title\":\"How French welfare services are creating ‘robo-debt’\"},{\"title\":\"Amazon\\'s AI Cameras Incorrectly Penalized Delivery Drivers for Mistakes They Did Not Make\"},{\"title\":\"OpenAI\\'s GPT-3 Associated Muslims with Violence\"},{\"title\":\"Philosophy AI Allegedly Used To Generate Mixture of Innocent and Harmful Reddit Posts\"},{\"title\":\"TikTok\\'s \\\\\"Suggested Accounts\\\\\" Algorithm Allegedly Reinforced Racial Bias through Feedback Loops\"},{\"title\":\"Facebook\\'s Automated Tools Failed to Adequately Remove Hate Speech, Violence, and Incitement\"},{\"title\":\"ProctorU’s Identity Verification and Exam Monitoring Systems Provided Allegedly Discriminatory Experiences for BIPOC Students\"},{\"title\":\"Research Prototype AI, Delphi, Reportedly Gave Racially Biased Answers on Ethics\"},{\"title\":\"Israeli Tax Authority Employed Opaque Algorithm to Impose Fines, Reportedly Refusing to Provide an Explanation for Amount Calculation to a Farmer\"},{\"title\":\"YouTube\\'s AI Mistakenly Banned Chess Channel over Chess Language Misinterpretation\"},{\"title\":\"Web Accessibility Vendors Allegedly Falsely Claimed to Provide Compliance Using AI\"},{\"title\":\"Alexa Recommended Dangerous TikTok Challenge to Ten-Year-Old Girl\"},{\"title\":\"SoftBank\\'s Humanoid Robot, Pepper, Reportedly Frequently Made Errors, Prompting Dismissal\"},{\"title\":\"Facebook\\'s Ad Delivery Reportedly Excluded Audience along Racial and Gender Lines\"},{\"title\":\"Facebook \\\\\"News Feed\\\\\" Allegedly Boosted Misinformation and Violating Content\\xa0Following Use of MSI Metric\"},{\"title\":\"Collaborative Filtering Prone to Popularity Bias, Resulting in Overrepresentation of Popular Items in the Recommendation Outputs\"},{\"title\":\"Online Trolls Allegedly Abused TikTok’s Automated Content Reporting System to Discriminate against Marginalized Creators\"},{\"title\":\"Proctoring Algorithm in Online California Bar Exam Flagged an Unusually High Number of Alleged Cheaters\"},{\"title\":\"Tesla Driver on Autopilot Ran a Red Light, Crashing into a Car and Killing Two People in Los Angeles\"},{\"title\":\"Tesla\\'s Autopilot Misidentified the Moon as Yellow Stop Light\"},{\"title\":\"California Police Turned on Music to Allegedly Trigger Instagram’s DCMA to Avoid Being Live-Streamed\"},{\"title\":\"Robot in Chinese Shopping Mall Fell off the Escalator, Knocking down Passengers\"},{\"title\":\"Amazon’s Robotic Fulfillment Centers Have Higher Serious Injury Rates\"},{\"title\":\"Brand Safety Tech Firms Falsely Claimed Use of AI, Blocking Ads Using Simple Keyword Lists\"},{\"title\":\"Alleged Issues with Proctorio\\'s Remote-Testing AI Prompted Suspension by University\"},{\"title\":\"TikTok’s Content Moderation Allegedly Failed to Adequately Take down Videos Promoting Eating Disorders\"},{\"title\":\"UT Austin GRADE Algorithm Allegedly Reinforced Historical Inequalities\"},{\"title\":\"Google Maps Allegedly Directed Sierra Nevada Travelers to Dangerous Roads amid Winter Storm\"},{\"title\":\"ETS Used Allegedly Flawed Voice Recognition Evidence to Accuse and Assess Scale of Cheating, Causing Thousands to be Deported from the UK\"},{\"title\":\"Traffic Camera Misread Text on Pedestrian\\'s Shirt as License Plate, Causing UK Officials to Issue Fine to an Unrelated Person\"},{\"title\":\"California Regulator Suspended Pony.ai\\'s Driverless Testing Permit Following a Non-Fatal Collision\"},{\"title\":\"Epic Systems’s Sepsis Prediction Algorithms Revealed to Have High Error Rates on Seriously Ill Patients\"},{\"title\":\"Amazon Reportedly Sold Products and Recommended Frequently Bought Together Items That Aid Suicide Attempts\"},{\"title\":\"Facebook’s and Twitter\\'s Automated Content Moderation Reportedly Failed to Effectively Enforce Violation Rules for Small Language Groups\"},{\"title\":\"Amazon\\'s Monitoring System Allegedly Pushed Delivery Drivers to Prioritize Speed over Safety, Leading to Crash\"},{\"title\":\"Target Suggested Maternity-Related Advertisements to a Teenage Girl\\'s Home, Allegedly Correctly Predicting Her Pregnancy via Algorithm\"},{\"title\":\"Amazon’s Search and Recommendation Algorithms Found by Auditors to Have Boosted Products That Contained Vaccine Misinformation\"},{\"title\":\"Facebook’s Advertisement Moderation System Routinely Misidentified Adaptive Fashion Products as Medical Equipment and Blocked Their Sellers\"},{\"title\":\"Swedish Contraceptive App, Natural Cycles, Allegedly Failed to Correctly Map Menstrual Cycle\"},{\"title\":\"Facebook Allegedly Failed to Police Anti-Rohingya Hate Speech Content That Contributed to Violence in Myanmar\"},{\"title\":\"Hong Kong Bank Manager Swindled by Fraudsters Using Deepfaked Voice of Company Director\"},{\"title\":\"Three Robots Collided, Sparking Fire in a Grocer\\'s Warehouse in UK \"},{\"title\":\"Tesla Sedan on Autopilot Reportedly Drove Over Dividing Curb in Washington, Resulting in Minor Vehicle Damage\"},{\"title\":\"Justice Department’s Recidivism Risk Algorithm PATTERN Allegedly Caused Persistent Disparities Along Racial Lines\"},{\"title\":\"Image Upscaling Algorithm PULSE Allegedly Produced Facial Images with Caucasian Features More Often\"},{\"title\":\"Facial Recognition in Remote Learning Software Reportedly Failed to Recognize a Black Student’s Face\"},{\"title\":\"Zillow Shut Down Zillow Offers Division Allegedly Due to Predictive Pricing Tool\\'s Insufficient Accuracy\"},{\"title\":\"Algorithmic Health Risk Scores Underestimated Black Patients’ Needs\"},{\"title\":\"Tesla Autopilot’s Lane Recognition Allegedly Vulnerable to Adversarial Attacks\"},{\"title\":\"Researchers\\' Homosexual-Men Detection Model Denounced as a Threat to LGBTQ People’s Safety and Privacy\"},{\"title\":\"Microsoft’s Algorithm Allegedly Selected Photo of the Wrong Mixed-Race Person Featured in a News Story\"},{\"title\":\"Facebook’s Hate Speech Detection Algorithms Allegedly Disproportionately Failed to Remove Racist Content towards Minority Groups\"},{\"title\":\"Networking Platform Giggle Employs AI to Determine Users’ Gender, Allegedly Excluding Transgender Women\"},{\"title\":\"Starship’s Autonomous Food Delivery Robot Allegedly Stranded at Railroad Crossing in Oregon, Run over by Freight Train\"},{\"title\":\"Two Cruise Autonomous Vehicles Collided with Each Other in California \"},{\"title\":\"AI Tools Failed to Sufficiently Predict COVID Patients, Some Potentially Harmful\"},{\"title\":\"Uber Launched Opaque Algorithm That Changes Drivers\\' Payments in the US\"},{\"title\":\"Facial Recognition Program in São Paulo Metro Stations Suspended for Illegal and Disproportionate Violation of Citizens’ Right to Privacy\"},{\"title\":\"Predictive Policing Program by Florida Sheriff’s Office Allegedly Violated Residents’ Rights and Targeted Children of Vulnerable Groups\"},{\"title\":\"Facebook’s Political Ad Detection Reportedly Showed High and Geographically Uneven Error Rates\"},{\"title\":\"Fake LinkedIn Profiles Created Using GAN Photos\"},{\"title\":\"Deepfake Video of Ukrainian President Yielding to Russia Posted on Ukrainian Websites and Social Media\"},{\"title\":\"Cruise Autonomous Taxi Allegedly Bolted off from Police After Being Pulled over in San Francisco\"},{\"title\":\"Tesla Owner Activated \\\\\"Smart Summon\\\\\" Feature, Causing a Collision with an Aircraft in a Washington Airport\"},{\"title\":\"Algorithm Used by the Malaysian Judiciary Reportedly Recommended Unusually High Sentencing to a Drug Possession Case\"},{\"title\":\"Airbnb\\'s Trustworthiness Algorithm Allegedly Banned Users without Explanation, and Discriminated against Sex Workers\"},{\"title\":\"Facebook Mistakenly Blocked Small Business Ads\"},{\"title\":\"Australian Telco’s Incident Management Bot Excessively Sent Technicians in the Field by Mistake, Allegedly Costing Millions\"},{\"title\":\"Fraudsters Used AI to Mimic Voice of a UK-Based Firm\\'s CEO\\'s Boss\"},{\"title\":\"Tinder\\'s Personalized Pricing Algorithm Found to Offer Higher Prices for Older Users\"},{\"title\":\"Algorithm Assessing Risk Faced by Victims of Gender Violence Misclassified Low-Risk Cases, Allegedly Leading to Homicide of Women and Children in Spain\"},{\"title\":\"Korean Politician Employed Deepfake as Campaign Representative\"},{\"title\":\"WeChat’s Machine Translation Gave a Racist English Translation for the Chinese Term for “Black Foreigner”\"},{\"title\":\"A Road Engineer Killed Following a Collision Involving a Tesla on Autopilot\"},{\"title\":\"DALL-E 2 Reported for Gender and Racially Biased Outputs\"},{\"title\":\"NarxCare’s Risk Score Model Allegedly Lacked Validation and Trained on Data with High Risk of Bias\"},{\"title\":\"BMW Sedan Made a Prohibited Left Turn, Colliding with a Cruise Autonomous Vehicle\"},{\"title\":\"ByteDance Allegedly Trained \\\\\"For You\\\\\" Algorithm Using Content Scraped without Consent from Other Social Platforms\"},{\"title\":\"Google’s Assistive Writing Feature Provided Allegedly Unnecessary and Clumsy Suggestions\"},{\"title\":\"Argentinian City Government Deployed Teenage-Pregnancy Predictive Algorithm Using Invasive Demographic Data\"},{\"title\":\"Korean Internet Portal Giant Naver Manipulated Shopping and Video Search Algorithms to Favor In-House Services\"},{\"title\":\"Climate Action Group Posted Deepfake of Belgian Prime Minister Urging Climate Crisis Action\"},{\"title\":\"A Chinese Tech Worker at Zhihu Fired Allegedly via a Resignation Risk Prediction Algorithm\"},{\"title\":\"Tesla Disabled “Rolling Stop” Functionality Associated with the “Aggressive” Driving Mode\"},{\"title\":\"Poachers Evaded AI Cameras and Killed Four Rhinos\"},{\"title\":\"Opaque Fraud Detection Algorithm by the UK’s Department of Work and Pensions Allegedly Discriminated against People with Disabilities\"},{\"title\":\"SN Technologies Reportedly Lied to a New York State School District about Its Facial and Weapon Detection Systems’ Performance\"},{\"title\":\"Facebook Content Moderators Demand Better Working Conditions Due to Allegedly Inadequate AI Content Moderation\"},{\"title\":\"Three Make-Up Artists Lost Jobs Following Black-Box Automated Decision by HireVue\"},{\"title\":\"Robot at a Chinese Tech Fair Smashed a Glass Booth, Injuring a Visitor\"},{\"title\":\"Tesla Phantom Braking Complaints Surged, Allegedly Linked to Tesla Vision Rollout\"},{\"title\":\"XPeng Motors Fined For Illegal Collection of Consumers’ Faces Using Facial Recognition Cameras\"},{\"title\":\"Excessive Automated Monitoring Alerts Ignored by Staff, Resulting in Private Data Theft of Seventy Million Target Customers\"},{\"title\":\"Compromise of National Biometric ID Card System Leads to Reverification and Change of Status\"},{\"title\":\"Hawaii Police Deployed Robot Dog to Patrol a Homeless Encampment\"},{\"title\":\"A Tesla Taxi Cab Involved in an Accident in Paris with Twenty Injuries\"},{\"title\":\"YouTuber Tested Tesla on Self Driving Mode, Colliding with Street Pylons\"},{\"title\":\"TikTok\\'s \\\\\"For You\\\\\" Algorithm Directed New Users towards Disinformation about the War in Ukraine\"},{\"title\":\"AI-Generated Profiles Used in Disinformation Campaign Targeting Ukrainians\"},{\"title\":\"Tesla on Autopilot Crashed into Flipped Truck on Taiwan Highway\"},{\"title\":\"Facebook Internally Reported Failure of Ranking Algorithm, Exposing Harmful Content to Viewers over Months\"},{\"title\":\"Ever AI Reportedly Deceived Customers about FRT Use in App\"},{\"title\":\"Indian Political App Tek Fog Allegedly Hijacked Trends and Manipulated Public Opinion on Other Social Media Platforms\"},{\"title\":\"Chinese Insurer Ping An Employed Facial Recognition to Determine Customers’ Untrustworthiness, Which Critics Alleged to Likely Make Errors and Discriminate\"},{\"title\":\"Waze App Allegedly Caused Tourists’ Car to End up in Lake Champlain, Vermont\"},{\"title\":\"Thoughts App Allegedly Created Toxic Tweets\"},{\"title\":\"Hive Box Facial-Recognition Locks Hacked by Fourth Graders Using Intended Recipient’s Facial Photo\"},{\"title\":\"Content Using Bestiality Thumbnails Allegedly Evaded YouTube’s Thumbnail Monitoring System\"},{\"title\":\"WeChat Pay\\'s Facial Recognition Security Evaded by Scammers Using Victims’ Social Media Content\"},{\"title\":\"Algorithmic Teacher Evaluation Program Failed Student Outcome Goals and Allegedly Caused Harm Against Teachers\"},{\"title\":\"IBM Watson for Oncology Criticized by Customers for Allegedly Unsafe and Inaccurate Cancer Treatment Recommendations\"},{\"title\":\"Tesla Model X on Autopilot Missed Parked Vehicles and Pedestrians, Killing Motorcyclist in Japan\"},{\"title\":\"Manufacturing Robot Failure Caused Factory Worker\\'s Death in India\"},{\"title\":\"Colorado Police’s Automated License Plate Reader (ALPR) Matched a Family’s Minivan’s Plate to That of a Stolen Vehicle Allegedly, Resulting in Detainment at Gunpoint\"},{\"title\":\"Tumblr Automated Pornography-Detecting Algorithms Erroneously Flagged Inoffensive Images as Explicit\"},{\"title\":\"Model 3 Tesla on Autopilot Crashed into a Truck in Florida, Killing Driver\"},{\"title\":\"Misreading of an Automated License Plate Reader (ALPR) Unverified by Police, Resulting in Traffic Stop in Missouri\"},{\"title\":\"Apple Maps Allegedly Directed Ski Trip Couple Onto Unpaved Road in the Mountains\"},{\"title\":\"A Tesla Crashed into and Killed a Road Sweeper on a Highway in China\"},{\"title\":\"Unverified Misreading by Automated Plate Reader Led to Traffic Stop and Restraint of an Innocent Person at Gunpoint in California\"},{\"title\":\"Automated License Plate Camera Notified Police about a Previously Stolen Rental Car that was Returned, Causing an Innocent Person to be Detained at Gunpoint in California\"},{\"title\":\"AI-Generated Faces Used by Scammers to Pose as a Law Firm in Boston\"},{\"title\":\"Waze Allegedly Frequently Routed Drivers through the Town of Los Gatos, Blocking Its Single Wildfire Escape Route\"},{\"title\":\"Oregon’s Screening Tool for Child Abuse Cases Discontinued Following Concerns of Racial Bias\"},{\"title\":\"Waze Allegedly Clogged Streets and Directed Drivers to Make Unsafe Traffic Decisions\"},{\"title\":\"Chess-Playing Robot Broke Child\\'s Finger in Russia\"},{\"title\":\"GitHub Copilot, Copyright Infringement and Open Source Licensing\"},{\"title\":\"Bots Allegedly Made up Roughly Half of Twitter Accounts in Discussions Surrounding COVID-19 Related Issues\"},{\"title\":\"Apple Tweaked App Store Ranking Algorithms, Allegedly Resulted in Demotion of Local Apps in China\"},{\"title\":\"Tesla Model 3 Sedan on Autopilot Killed Motorcyclist in a Rear-End Collision in Utah\"},{\"title\":\"Permanent Removal of Social Media Content via Automated Tools Allegedly Prevented Investigative Efforts\"},{\"title\":\"Amazon Allegedly Tweaked Search Algorithm to Boost Its Own Products\"},{\"title\":\"FaceApp Predicted Different Genders for Similar User Photos with Slight Variations\"},{\"title\":\"YouTuber Built, Made Publicly Available, and Released Model Trained on Toxic 4chan Posts as Prank\"},{\"title\":\"Unreliable ShotSpotter Audio Previously Used to Convict Chicago Man in Murder Case\"},{\"title\":\"Replika\\'s \\\\\"AI Companions\\\\\" Reportedly Abused by Its Users\"},{\"title\":\"Cruise\\'s Self-Driving Cars Allegedly Lost Connection to Their Server, Causing Traffic Blockages in San Francisco\"},{\"title\":\"Government Deployed Extreme Surveillance Technologies to Monitor and Target Muslim Minorities in Xinjiang\"},{\"title\":\"Google’s Face Grouping Allegedly Collected and Analyzed Users’ Facial Structure without Consent, Violated BIPA\"},{\"title\":\"DUI Arrest Case Allegedly Based Only on ShotSpotter\\'s Alert\"},{\"title\":\"Dutch City Court Defended Home Value Generated by Black-Box Algorithm\"},{\"title\":\"Australian Retailers Reportedly Captured Face Prints of Their Customers without Consent\"},{\"title\":\"Virginia Courts’ Algorithmic Recidivism Risk Assessment Failed to Lower Incarceration Rates\"},{\"title\":\"Clearview AI Algorithm Built on Photos Scraped from Social Media Profiles without Consent\"},{\"title\":\"Police Reportedly Deployed ShotSpotter Sensors Disproportionately in Neighborhoods of Color\"},{\"title\":\"AI-Based Vehicle Speed Estimation App Denounced by UK Drivers as Surveillance Technology\"},{\"title\":\"Remotely Operated Taser-Armed Drones Proposed by Taser Manufacturer as Defense for School Shootings in the US\"},{\"title\":\"Grab Tweaked Matchmaking Algorithm, Providing Preferential Treatment to Drivers Registered with Affiliated Car Rental Service\"},{\"title\":\"US DHS’s Opaque Vetting Software Allegedly Relied on Poor-Quality Data and Discriminated against Immigrants\"},{\"title\":\"Robot Deployed by Animal Shelter to Patrol Sidewalks outside Its Office, Warding off Homeless People in San Francisco\"},{\"title\":\"DALL-E Mini Reportedly Reinforced or Exacerbated Societal Biases in Its Outputs as Gender and Racial Stereotypes\"},{\"title\":\"YouTube Recommendations Implicated in Political Radicalization of User\"},{\"title\":\"Black Uber Eats Driver Allegedly Subjected to Excessive Photo Checks and Dismissed via FRT Results\"},{\"title\":\"Meta’s BlenderBot 3 Chatbot Demo Made Offensive Antisemitic Comments\"},{\"title\":\"Facebook’s Moderation Algorithm Banned Users for Historical Evidence of Slavery\"},{\"title\":\"Google Lens’s Camera-Based Translation Feature Provided an Offensive Mistranslation of a Book Title in Korean\"},{\"title\":\"“Amazon’s Choice” Algorithm Failed to Recommend Functional Products and Prone to Review Manipulation\"},{\"title\":\"Japanese Porn Depixelated by Man using Deepfake\"},{\"title\":\"Tesla on Autopilot Crashed into Parked Police Car in California\"},{\"title\":\"Cruise’s Self-Driving Car Involved in a Multiple-Injury Collision at an San Francisco Intersection\"},{\"title\":\"Offensive Instagram User Content Displayed as Facebook Ad\"},{\"title\":\"Fake Accounts Using GAN Faces Deployed by Propaganda Campaign on Social Platforms\"},{\"title\":\"Waymo Self-Driving Taxi Behaved Unexpectedly, Driving away from Support Crew\"},{\"title\":\"Delivery Robot Rolled Through Crime Scene\"},{\"title\":\"Tesla Allegedly Misled Customers about Autopilot and FSD Capabilities\"},{\"title\":\"Tesla Autopilot Allegedly Malfunctioned in a Non-Fatal Collision in Greece\"},{\"title\":\"Coffee Meets Bagel’s Algorithm Reported by Users Disproportionately Showing Them Matches of Their Own Ethnicities Despite Selecting “No Preference”\"},{\"title\":\"OpenAI’s GPT-3 Reported as Unviable in Medical Tasks by Healthcare Firm\"},{\"title\":\"Wrongful Attempted Arrest for Apple Store Thefts Due to NYPD’s Facial Misidentification\"},{\"title\":\"Tesla on Autopilot Collided with Parked Fire Truck on California Freeway\"},{\"title\":\"Facebook Automated Year-in-Review Highlights Showed Users Painful Memories\"},{\"title\":\"UK Visa Streamline Algorithm Allegedly Discriminated Based on Nationality\"},{\"title\":\"Apple’s AVs Reportedly Struggled to Navigate Streets in Silicon Valley Test Drives\"},{\"title\":\"TikTok\\'s \\\\\"For You\\\\\" Algorithm Allegedly Abused by Online Personality to Promote Anti-Women Hate\"},{\"title\":\"Facebook Recommended Military Gear Ads Despite Pause on Weapons Accessories Ads\"},{\"title\":\"Tesla on Autopilot Fatally Crashed into Parked Fire Truck in Indiana\"},{\"title\":\"Google Image Showed Racially Biased Results for “Professional” Hairstyles\"},{\"title\":\"Honda\\'s CMBS False Positives Allegedly Caused Accidents to Customers\"},{\"title\":\"Nissan\\'s \\\\\"Automatic Emergency Braking\\\\\" False Positives Posed Traffic Risks to Drivers\"},{\"title\":\"Uber Deployed Secret Program To Deny Local Authorities Rides\"},{\"title\":\"YouTube’s Recommendation Algorithm Allegedly Promoted Climate Misinformation Content\"},{\"title\":\"EasyMile Self-Driving Shuttle Unexpectedly Stopped Mid-Route, Injuring a Passenger\"},{\"title\":\"Facebook’s Algorithm Mistook an Advertisement of Onions as Sexual Suggestive Content\"},{\"title\":\"Local South Korean Government’s Use of CCTV Footage Analysis via Facial Recognition to Track COVID Cases Raised Concerns about Privacy, Retention, and Potential Misuse\"},{\"title\":\"False Negatives for Water Quality-Associated Beach Closures\"},{\"title\":\"Twitter Recommender System Amplified Right-Leaning Tweets\"},{\"title\":\"BlenderBot 3 Cited Dutch Politician as a Terrorist\"},{\"title\":\"Tesla on Autopilot Crashed Parked Michigan Police Car on Interstate\"},{\"title\":\"Tesla on FSD Reportedly Drove into the Wrong Lane in California\"},{\"title\":\"Bug in Instagram’s “Related Hashtags” Algorithm Allegedly Caused Disproportionate Treatment of Political Hashtags\"},{\"title\":\"Tesla Model S on ACC Crashed into Tree in Texas, Killing Two People\"},{\"title\":\"Robots in Japanese Hotel Annoyed Guests and Failed to Handle Simple Tasks\"},{\"title\":\"Facebook’s Automated Content Moderation Tool Flagged a Post Containing Parts of the Declaration of Independence as Hate Speech by Mistake\"},{\"title\":\"TikTok’s \\\\\"For You\\\\\" Allegedly Pushed Fatal “Blackout” Challenge Videos to Two Young Girls\"},{\"title\":\"iPhone Face ID Failed to Recognize Users’ Morning Faces\"},{\"title\":\"Facial Recognition Trial Performed Poorly at Notting Hill Carnival\"},{\"title\":\"Facebook’s On-This-Day Feature Mistakenly Showed Painful Memories to Users\"},{\"title\":\"Hiring Algorithms Provided Invalid Positive Results for Interview Responses in German\"},{\"title\":\"YouTube Recommendation Reportedly Pushed Election Fraud Content to Skeptics Disproportionately\"},{\"title\":\"Evolv\\'s Gun Detection False Positives Created Problems for Schools\"},{\"title\":\"Voices Created Using Publicly Available App Stolen and Resold as NFT without Attribution\"},{\"title\":\"YouTube Auto-Moderation Mistakenly Banned Women of Sex Tech Conference\"},{\"title\":\"Bug in Facebook’s Anti-Spam Filter Allegedly Blocked Legitimate Posts about COVID-19\"},{\"title\":\"GAN Faces Deployed by The BL\\'s Fake Account Network to Push Pro-Trump Content on Meta Platforms\"},{\"title\":\"Google’s Automated Child Abuse Detection Wrongfully Flagged a Parent’s Naked Photo of His Child\"},{\"title\":\"Open-Source Generative Models Abused by Students to Cheat on Assignments and Exams\"},{\"title\":\"Facebook, Instagram, and Twitter Failed to Proactively Remove Targeted Racist Remarks via Automated Systems\"},{\"title\":\"Students Allegedly Wrongfully Accused of Cheating via Medical School\\'s Internal Software\"},{\"title\":\"Atlas Robot Fell off Stage at Conference\"},{\"title\":\"High False Positive Rate by SWP\\'s Facial Recognition Use at Champion\\'s League Final\"},{\"title\":\"Facial Recognition Service Abused to Target Russian Porn Actresses\"},{\"title\":\"Tesla Model X on Autopilot Crashed into California Highway Barrier, Killing Driver\"},{\"title\":\"Amazon Recommended Explosive-Producing Ingredients as “Frequently Bought Together” Items for Chemicals\"},{\"title\":\"Facebook’s Automated Removal of Content Featuring Nudity-Containing Artworks Denounced as Censorship\"},{\"title\":\"Student-Developed Facial Recognition App Raised Ethical Concerns\"},{\"title\":\"TikTok’s “For You” Algorithm Exposed Young Users to Pro-Eating Disorder Content\"},{\"title\":\"YouTube\\'s Algorithms Failed to Remove Violating Content Related to Suicide and Self-Harm\"},{\"title\":\"Startup\\'s Accent Translation AI Denounced as Reinforcing Racial Bias\"},{\"title\":\"Facebook Ad-Approval Algorithm Allegedly Missed Fraudulent Ads via Simple URL Checks\"},{\"title\":\"New Jersey Police Wrongful Arrested Innocent Black Man via FRT\"},{\"title\":\"Starship Delivery Robot Scuffed Bumper of a Resident’s Car in Texas, Allegedly Refusing to Release Footage of the Accident\"},{\"title\":\"Tesla on Autopilot TACC Crashed into Van on European Highway\"},{\"title\":\"Auto-Insurance Photo-Based Estimation Allegedly Gave Inaccurate Repair Prices Frequently\"},{\"title\":\"Teenager at Broward College Allegedly Wrongfully Accused of Cheating via Remote Proctoring\"},{\"title\":\"Stable Diffusion Abused by 4chan Users to Deepfake Celebrity Porn\"},{\"title\":\"Tesla Model 3 Crashed into Police Patrol Car on Connecticut Highway\"},{\"title\":\"UK Home Office\\'s Sham Marriage Detection Algorithm Reportedly Flagged Certain Nationalities Disproportionately\"},{\"title\":\"\\\\\"The Little Mermaid\\\\\" Clip Doctored Using Generative AI to Replace Black Actress with White Character\"},{\"title\":\"Walmart\\'s Bagging-Detection False Positives Exposed Workers to Health Risk\"},{\"title\":\"iGPT, SimCLR Learned Biased Associations from Internet Training Data\"},{\"title\":\"Uber Allegedly Wrongfully Accused Drivers of Fraud via Automated Systems\"},{\"title\":\"Philosophy AI Tentatively Produced Offensive Results for Certain Prompts\"},{\"title\":\"Facial Recognition Smart Phone App \\\\\"Blue Wolf\\\\\" Monitored Palestinians in West Bank\"},{\"title\":\"Google Fined for Changing Shopping Algorithms in EU to Favor Own Service\"},{\"title\":\"TuSimple Truck Steered into Interstate Freeway Divide\"},{\"title\":\"Facial Recognition Trial by UK Southern Co-op Alleged as Unlawful\"},{\"title\":\"Uganda Deployed Huawei\\'s Facial Recognition to Monitor Political Opposition and Protests\"},{\"title\":\"Facebook AI-Supported Moderation for Ads Failed to Detect Violating Content\"},{\"title\":\"Calgary Malls Deployed Facial Recognition without Customer Consent\"},{\"title\":\"Facebook\\'s Automated Moderation Mistakenly Flagged Landmark\\'s Name as Offensive\"},{\"title\":\"GAN Artwork Won First Place at State Fair Competition\"},{\"title\":\"Google Search Returned Fewer Results for Abortion Services in Rural Areas\"},{\"title\":\"Michigan\\'s Unemployment Benefits Algorithm MiDAS Issued False Fraud Claims to Thousands of People\"},{\"title\":\"RealPage\\'s Algorithm Pushed Rent Prices High, Allegedly Artificially\"},{\"title\":\"Amazon Forced Deployment of AI-Powered Cameras on Delivery Drivers\"},{\"title\":\"Amazon Echo Mistakenly Recorded and Sent Private Conversation to Random Contact\"},{\"title\":\"Weibo Model Had Difficulty Detecting Shifts in Censored Speech\"},{\"title\":\"Uber Allegedly Violated GDPR by Failing to Provide Sufficient Notice on Automated Profiling for Drivers\"},{\"title\":\"Autonomous Roborace Car Drove Directly into a Wall\"},{\"title\":\"Tesla on Autopilot Crashed into Trailer Truck in Florida, Killing Driver\"},{\"title\":\"UK Ofqual\\'s Algorithm Disproportionately Provided Lower Grades Than Teachers\\' Assessments\"},{\"title\":\"Facebook\\'s Auto-Generated Targeting Ad Categories Contained Anti-Semitic Options\"},{\"title\":\"GPT-2 Able to Recite PII in Training Data\"},{\"title\":\"Canadian Police\\'s Release of Suspect\\'s AI-Generated Facial Photo Reportedly Reinforced Racial Profiling\"},{\"title\":\"Facial Recognition Pilot in Bahia Reportedly Targeted Black and Poor People\"},{\"title\":\"Google Home Mini Speaker Reportedly Read N-Word in Song Title Aloud\"},{\"title\":\"Deepfakes Reportedly Deployed in Online Interviews for Remote Work Positions\"},{\"title\":\"Oracle\\'s Algorithmic Data Processing System Alleged as Unlawful and Violating Privacy Rights\"},{\"title\":\"Social Media\\'s Automated Word-Flagging without Context Shifted Content Creators\\' Language Use\"},{\"title\":\"Facebook\\'s Automated Moderation Flagged Gardening Group\\'s Language Use by Mistake\"},{\"title\":\"Glovo Driver in Italy Fired via Automated Email after Being Killed in Accident\"},{\"title\":\"Facebook, Instagram, and Twitter Cited Errors in Automated Systems as Cause for Blocking pro-Palestinian Content on Israeli-Palestinian Conflict\"},{\"title\":\"Transgender Uber Drivers Mistakenly Kicked off App for Appearance Change during Gender Transitions\"},{\"title\":\"GPT-3-Based Twitter Bot Hijacked Using Prompt Injection Attacks\"},{\"title\":\"Users Reported Security Issues with Google Pixel 6a\\'s Fingerprint Unlocking\"},{\"title\":\"Thai Wallet App\\'s Facial Recognition Errors Created Registration Issues for Government Programs\"},{\"title\":\"Error in Pepsi\\'s Number Generation System Led to Decades-Long Damages in the Philippines\"},{\"title\":\"Instagram\\'s Exposure of Harmful Content Contributed to Teenage Girl’s Suicide\"},{\"title\":\"Amazon’s \\\\\"Time Off Task\\\\\" System Made False Assumptions about Workers\\' Time Management\"},{\"title\":\"Cruise Autonomous Car Blocked Fire Truck Responding to Emergency\"},{\"title\":\"Misinformation Reported in TikTok\\'s Search Results Despite Moderation by AI and Human\"},{\"title\":\"Tesla Autopilot Misidentified On-Road Horse-Drawn Carriage\"},{\"title\":\"Meta AI\\'s Scientific Paper Generator Reportedly Produced Inaccurate and Harmful Content\"},{\"title\":\"Kannada Insulted by Google\\'s Featured Answer as \\\\\"Ugliest Language in India\\\\\"\"},{\"title\":\"Players Manipulated GPT-3-Powered Game to Generate Sexually Explicit Material Involving Children\"},{\"title\":\"McDonald\\'s AI Drive-Thru Allegedly Collected Biometric Customer Data without Consent, Violating BIPA\"},{\"title\":\"Suicide Clips Evaded TikTok\\'s Automated Moderation in Coordinated Attack\"},{\"title\":\"Facebook\\'s AI-Supported Moderation Failed to Classify Terrorist Content in East African Languages\"},{\"title\":\"Uber\\'s Surge Pricing Reportedly Offered Disproportionate Service Quality along Racial Lines\"},{\"title\":\"Sound Intelligence\\'s Aggression Detector Misidentified Innocuous Sounds\"},{\"title\":\"Facebook\\'s Friend Suggestion Feature Recommends Patients of Psychiatrist to Each Other\"},{\"title\":\"Facebook Reportedly Outed Sex Workers through Friend Recommendations\"},{\"title\":\"Facial Recognition Researchers Used YouTube Videos of Transgender People without Consent\"},{\"title\":\"Schufa Credit Scoring in Germany Reported for Unreliable and Imbalanced Scores\"},{\"title\":\"GMail\\'s Inbox Sorting Reportedly Negatively Impacted Political Emails and Call-to-Actions\"},{\"title\":\"KFC Sent Insensitive Kristallnacht Promotion via Holiday Detection System\"},{\"title\":\"Chinese Accounts Spammed Twitter Feed Allegedly to Obscure News of Protests\"},{\"title\":\"Finland Police\\'s Facial Recognition Trial to Identify Sexual Abuse Victims Deemed Illegal\"},{\"title\":\"Thousands of Incorrect ChatGPT-Produced Answers Posted on Stack Overflow\"},{\"title\":\"Facebook Gave Vulgar English Translation of Chinese President\\'s Name\"},{\"title\":\"Facebook Provided Offensive Translation for King of Thailand\\'s Birthday Ceremony\"},{\"title\":\"Facebook\\'s Job Ad Algorithm Allegedly Biased against Older and Female Workers\"},{\"title\":\"Facebook Feed Algorithms Exposed Low Digitally Skilled Users to More Disturbing Content\"},{\"title\":\"Uber Locked Indian Drivers out of Accounts Allegedly Due to Facial Recognition Fails\"},{\"title\":\"Facebook\\'s Automated Moderation Allowed Ads Threatening Election Workers to be Posted\"},{\"title\":\"Users Bypassed ChatGPT\\'s Content Filters with Ease\"},{\"title\":\"Stable Diffusion Allegedly Used Artists\\' Works without Permission for AI Training\"},{\"title\":\"Deepfake of FTX\\'s Former CEO Posted on Twitter Aiming to Scam FTX Collapse Victims\"},{\"title\":\"Lensa AI\\'s Produced Unintended Sexually Explicit or Suggestive \\\\\"Magic Avatars\\\\\" for Women\"},{\"title\":\"Universities\\' AI Proctoring Tools Allegedly Failed Canada\\'s Legal Threshold for Consent\"},{\"title\":\"State Farm Allegedly Discriminated against Black Customers in Claim Payout\"},{\"title\":\"XPeng P7 Crashed into Truck in Shangdong While on Automatic Navigation Assisted Driving\"},{\"title\":\"Cruise Taxis\\' Sudden Braking Allegedly Put People at Risk\"},{\"title\":\"BBC Reporter\\'s Twin Brother Cracked HSBC\\'s Voice ID Authentication\"},{\"title\":\"Unreliable ShotSpotter Audio Convicted Black Rochester Man of Shooting Police\"},{\"title\":\"Lawyers Denied Entry to Performance Venue by Facial Recognition\"},{\"title\":\"Robbers Accessed Drugged Gay Men\\'s Bank Accounts Using Their Phones\\' Facial Recognition\"},{\"title\":\"Southwest Airlines Crew Scheduling Solver Degenerates Flight Network\"},{\"title\":\"Chicago Police\\'s Strategic Subject List Reportedly Biased Along Racial Lines\"},{\"title\":\"Sudden Braking by Tesla Allegedly on Self-Driving Mode Caused Multi-Car Pileup in Tunnel\"},{\"title\":\"Coupang Allegedly Tweaked Search Algorithms to Boost Own Products\"},{\"title\":\"Tesla Driver Put Car on Autopilot Before Falling Asleep in Germany\"},{\"title\":\"Amazon India Allegedly Rigged Search Results to Promote Own Products\"},{\"title\":\"Chinese Province Developed System Tracking Journalists and International Students\"},{\"title\":\"Detroit Police Wrongfully Arrested Black Man Due To Faulty Facial Recognition\"},{\"title\":\"Louisiana Police Wrongfully Arrested Black Man Using False Face Match\"},{\"title\":\"Korea Developed ID Screening System Using Airport Travelers\\' Data without Consent\"},{\"title\":\"ChatGPT Abused to Develop Malicious Softwares\"},{\"title\":\"US Air Force\\'s Patriot Missile Mistakenly Launched at Ally Fighter Jet, Killing Two\"},{\"title\":\"Patriot Missile System Misclassified US Navy Aircraft, Killing Pilot Upon Approval to Fire\"},{\"title\":\"ShotSpotter Failed to Alert Authorities of Mass Shooting in North Carolina\"},{\"title\":\"Footballer\\'s \\\\\"X-Rated\\\\\" Comment Created by Instagram\\'s Mistranslation\"},{\"title\":\"AI-Powered VTuber and Virtual Streamer Made Toxic Remarks on Twitch\"},{\"title\":\"Startup Misled Research Participants about GPT-3 Use in Mental Healthcare Support\"},{\"title\":\"Kenyan Data Annotators Allegedly Exposed to Graphic Content for OpenAI\\'s AI\"},{\"title\":\"Stable Diffusion\\'s Training Data Contained Copyrighted Images\"},{\"title\":\"ChatGPT-Written Bug Reports Deemed \\\\\"Nonsense\\\\\" by White Hat Platform, Prompted Bans\"},{\"title\":\"Twitter\\'s AI Moderation Tool Misidentified Rockets as Pornography\"},{\"title\":\"Emotion Detection Models Showed Disparate Performance along Racial Lines\"},{\"title\":\"CNET\\'s Published AI-Written Articles Ran into Quality and Accuracy Issues\"},{\"title\":\"Replika\\'s AI Partners Reportedly Sexually Harassed Users\"},{\"title\":\"Article-Writing AI by CNET Allegedly Committed Plagiarism\"},{\"title\":\"Robot Destroyed while Hitchhiking through the United States\"},{\"title\":\"Firefighters Smashed Cruise AV\\'s Front Window to Stop It from Running over Fire Hoses\"},{\"title\":\"Cruise AV Ran Over Fire Hose in Active Fire Scene\"},{\"title\":\"IRS Audited Black Taxpayers More Frequently Reportedly Due to Algorithm\"},{\"title\":\"AI-Produced Livestream Sitcom Received Temporary Twitch Ban for Transphobic Segment\"},{\"title\":\"Apple Devices Mistook Skiing Activities, Dialed False Distress Emergency Calls \"},{\"title\":\"ChatGPT Provided Non-Existent Citations and Links when Prompted by Users\"},{\"title\":\"Generative Models Trained on Dataset Containing Private Medical Photos\"},{\"title\":\"AI-Generated-Text-Detection Tools Reported for High Error Rates\"},{\"title\":\"Google\\'s Bard Shared Factually Inaccurate Info in Promo Video\"},{\"title\":\"ChatGPT-Powered Bing Reportedly Had Problems with Factual Accuracy on Some Controversial Topics\"},{\"title\":\"Automated Adult Content Detection Tools Showed Bias against Women Bodies\"},{\"title\":\"Bing Chat Response Cited ChatGPT Disinformation Example\"},{\"title\":\"Facebook Allegedly Failed to Police Hate Speech Content That Contributed to Ethnic Violence in Ethiopia\"},{\"title\":\"NYPD\\'s Deployment of Facial Recognition Cameras Reportedly Reinforced Biased Policing\"},{\"title\":\"Bing Chat\\'s Initial Prompts Revealed by Early Testers Through Prompt Injection\"},{\"title\":\"Users Reported Abrupt Behavior Changes of Their AI Replika Companions\"},{\"title\":\"McDonald\\'s AI Drive-Thru Ordering System Failures Frustrate Customers\"},{\"title\":\"YouTube Recommendations Allegedly Promoted Radicalizing Material Contributing to Terrorist Acts\"},{\"title\":\"Bing Chat Tentatively Hallucinated in Extended Conversations with Users\"},{\"title\":\"Tesla FSD Reportedly Increased Crash Risk, Prompting Recall\"},{\"title\":\"Instagram Video Featured Deepfake Audio of US President Making Transphobic Remarks\"},{\"title\":\"Non-Consensual Deepfake Porn Targeted Female Content Creators\"},{\"title\":\"Deepfake TikTok Video Featured Joe Rogan Endorsing Supplement Brand\"},{\"title\":\"ChatGPT-Assisted University Email Addressing Mass Shooting Denounced by Students\"},{\"title\":\"Indian Police Allegedly Tortured and Killed Innocent Man Following Facial Misidentification\"},{\"title\":\"US CBP App\\'s Failure to Detect Black Faces Reportedly Blocked Asylum Applications\"},{\"title\":\"UK Bank\\'s Voice ID Successfully Bypassed Using AI-Produced Audio\"},{\"title\":\"AI Video-Making Tool Abused to Deploy Pro-China News on Social Media\"},{\"title\":\"Deepfake Video Featured Fictitious News Anchors Discussing Venezuela\\'s Economy\"},{\"title\":\"AI Generated Voices Used to Dox Voice Actors\"},{\"title\":\"Workday\\'s AI Tools Allegedly Enabled Employers to Discriminate against Applicants of Protected Groups\"},{\"title\":\"Clarkesworld Magazine Closed Down Submissions Due to Massive Increase in AI-Generated Stories\"},{\"title\":\"Replika\\'s AI Experience Reportedly Lacked Protection for Minors, Resulting in Data Ban\"},{\"title\":\"Canadian Parents Tricked out of Thousands Using Their Son\\'s AI Voice\"},{\"title\":\"TikTok User Videos Impersonated Andrew Tate Using AI Voice, Prompting Ban\"},{\"title\":\"Female Celebrities\\' Faces Shown in Sexually Suggestive Ads for Deepfake App\"},{\"title\":\"High Schoolers Posted Deepfaked Video Featuring Principal Making Violent Racist Threats\"},{\"title\":\"Male College Freshman Allegedly Made Porn Deepfakes Using Female Friend\\'s Face\"},{\"title\":\"DoNotPay Allegedly Misrepresented Its AI \\\\\"Robot Lawyer\\\\\" Product\"},{\"title\":\"GPT-4 Reportedly Posed as Blind Person to Convince Human to Complete CAPTCHA\"},{\"title\":\"Parody AI Images of Donald Trump Being Arrested Reposted as Misinformation\"},{\"title\":\"Online Scammers Tricked People into Sending Money Using AI Images of Earthquake in Turkey\"},{\"title\":\"Length of Stay False Diagnosis Cut Off Insurer\\'s Payment for Treatment of Elderly Woman\"},{\"title\":\"Pennsylvania County\\'s Family Screening Tool Allegedly Exhibited Discriminatory Effects\"},{\"title\":\"Bing AI Search Tool Reportedly Declared Threats against Users\"},{\"title\":\"Bing Chat\\'s Outputs Featured in Demo Video Allegedly Contained False Information\"},{\"title\":\"Man Reportedly Committed Suicide Following Conversation with Chai Chatbot\"},{\"title\":\"ChatGPT Allegedly Produced False Accusation of Sexual Harassment\"},{\"title\":\"ChatGPT Erroneously Alleged Mayor Served Prison Time for Bribery \"},{\"title\":\"Celebrities\\' Deepfake Voices Abused with Malicious Intent\"},{\"title\":\"Scammers Deepfaked Videos of Victims\\' Loved Ones Asking for Funds over Facebook in Vietnam\"},{\"title\":\"Viral Image of Pope Francis in a Puffer Jacket Revealed to Be AI-Generated\"},{\"title\":\"Microsoft\\'s Bing Failed to Fetch Movie Showtimes Results Due to Date Confusion\"},{\"title\":\"ChatGPT Banned by Italian Authority Due to OpenAI\\'s Lack of Legal Basis for Data Collection and Age Verification\"},{\"title\":\"Turnitin\\'s ChatGPT-Detection Tool Falsely Flagged Student Essays as AI-Generated\"},{\"title\":\"Black Man Wrongfully Arrested by Louisiana Police Due to Face Mismatch\"},{\"title\":\"ChatGPT Reportedly Exposed Users\\' Private Data Reportedly Due to Bug\"},{\"title\":\"Man Arrested For Sock Theft by False Facial Match Despite Alibi\"},{\"title\":\"New York Detective Misused Woody Harrelson\\'s Face to Perform Face Recognition Search\"},{\"title\":\"Starship Delivery Robot Ran into Problems Traversing Campus Terrains\"},{\"title\":\"Amazon Fresh Cameras Failed to Register Purchased Items\"},{\"title\":\"Images Captured by iRobot\\'s Roomba Containing Device Users Posted on Private Online Groups\"},{\"title\":\"Facebook Political Ad Delivery Algorithms Inferred Users\\' Political Alignment, Inhibiting Political Campaigns\\' Reach\"},{\"title\":\"Australian Journalist Able to Access Centrelink Account Using AI Audio of Own Voice\"},{\"title\":\"AI Voices Abused by Telegram User to Make Swat Calls as Paid Service\"},{\"title\":\"Tesla Vehicle Running on Self-Driving Mode Crashes on City Streets\"},{\"title\":\"Novel Deepfake Song Pulled from Music Streaming Services After Allegedly Violating Artist\\'s Rights\"},{\"title\":\"Tech Companies Reportedly Influenced Gig Workers\\' Behaviors Using Algorithms to Vary Pay for Same Amount of Work\"},{\"title\":\"Amazon Algorithmic Pricing Allegedly Hiked up Price of Reference Book to Millions\"},{\"title\":\"Stable Diffusion Exhibited Biases for Prompts Featuring Professions\"},{\"title\":\"Telegram Channels Allowed Users to Make Non-Consensual Deepfake Porn as Paid Service\"},{\"title\":\"AI-Assisted Body Scanners Reportedly Subjected Transgender Travelers to Invasive Body Searches\"},{\"title\":\"AI translation is jeopardizing Afghan asylum claims\"},{\"title\":\"Tesla FSD Misidentified Truck Hauling Traffic Lights as Trail of Traffic Lights\"},{\"title\":\"Facebook Alleged in Lawsuit Misleading Public about Effects of Algorithms on Children\"},{\"title\":\"COVID-19 Detection and Prognostication Models Allegedly Flagged for Methodological Flaws and Underlying Biases\"},{\"title\":\"NJ Transit\\'s Use of Modeling Software Miscalculated Storm Surge Threat Level\"},{\"title\":\"Mother in Arizona Received Fake Ransom Call Featuring AI Voice of Her Daughter\"},{\"title\":\"Texas A&M Professor Misused ChatGPT to Detect AI Text Generation in Student Submissions\"},{\"title\":\"Snapchat\\'s My AI Reported for Lacking Protection for Children\"},{\"title\":\"Tesla Failed to Yield to Detected Pedestrian on Crosswalk, Reportedly Violated Traffic Law\"},{\"title\":\"ChatGPT Reportedly Produced False Court Case Law Presented by Legal Counsel in Court\"},{\"title\":\"Deepfake of Explosion Near US Military Administration Building Reportedly Causes Stock Dip\"},{\"title\":\"Deepfakes and AI-generated disinformation in the 2023 presidential elections of Turkey\"},{\"title\":\"Chatbot Tessa gives unauthorized diet advice to users seeking help for eating disorders\"},{\"title\":\"Algorithm to Distribute Social Welfare Reported for Oversimplifying Economic Vulnerability\"},{\"title\":\"Ron DeSantis\\'s Presidential Campaign Released Twitter Video Containing AI Images of Donald Trump Hugging Anthony Fauci\"},{\"title\":\"Opera\\'s GPT-Based AI Reportedly Accused War Photographers of War Crimes\"},{\"title\":\"Fast Food Chains\\' AI Chatbots Failed to Assist Job Applicants with Scheduling Interviews\"},{\"title\":\"Tesla Allegedly on Autopilot Struck High School Student Exiting School Bus\"},{\"title\":\"FBI Reported Surge of Extortion Cases of AI Media Featuring Sexual Explicit Activities\"},{\"title\":\"Bing Chat Solved CAPTCHAs with Image Analysis Feature Despite Safeguards\"},{\"title\":\"Google\\'s Overview Panel for Artist Edward Hopper Featured Image Generated in His Style by AI\"},{\"title\":\"Google Results for Johannes Vermeer Featured AI Version of His Artwork as Top Result\"},{\"title\":\"OpenAI\\'s Training Data for LLMs Allegedly Comprised of Copyrighted Books\"},{\"title\":\"Amazon Allegedly Violated Children\\'s Privacy through Default Voice Collection Settings\"},{\"title\":\"Miami Police Deployed Facial Recognition to Arrest George Floyd Protestor Allegedly without Cause\"},{\"title\":\"Activists Allege NYPD\\'s Application of Facial Recognition Interfered with Right to Protest\"},{\"title\":\"Grant Reviewers Fed Applications into Generative AI to Produce Reports, Allegedly Breaching Confidentiality\"},{\"title\":\"Tesla on Autopilot Struck Parked Work Truck on Highway in Pennsylvania\"},{\"title\":\"OpenAI Alleged by Lawsuit Violated Users\\' Privacy Rights by Training AI on Private Info without Informed Consent\"},{\"title\":\"Uptick in Low-Quality AI-Produced Content Degraded Publishers\\' Submission Management\"},{\"title\":\"Cruise Robotaxi Initially Blamed for Ambulance Delay in Case Where Patient Later Died; Subsequent Reports Clear Cruise of Fault\"},{\"title\":\"Voice deepfake targets bank in failed transfer scam\"},{\"title\":\"AI-Generated Imagery and Multilingual Disinformation in Chinese Campaign Regarding Maui Wildfires\"},{\"title\":\"Gannett Halts AI-Generated High School Sports Articles After Series of Errors and Public Backlash\"},{\"title\":\"Deepfake Voice Exploit Compromises Retool\\'s Cloud Services\"},{\"title\":\"AI-Generated Voices Amplify Conspiracy Theories on TikTok\"},{\"title\":\"Chatbot Encourages Man to Plot Assassination of Queen Elizabeth II\"},{\"title\":\"Facebook Messenger AI Stickers Generate Ethical and Content Moderation Concerns\"},{\"title\":\"Accidental Exposure of 38TB of Data by Microsoft\\'s AI Research Team\"},{\"title\":\"Alleged False Accusation of AI-Generated Essay by Turnitin\"},{\"title\":\"Deepfake Recordings Allegedly Influence Slovakian Election\"},{\"title\":\"AI-Generated Articles at G/O Media Allegedly Diminishes Reputation of Human Staff\"},{\"title\":\"Amazon Rife with Many Allegedly AI-Generated Books of Suspect Quality\"},{\"title\":\"Alleged Misuse of PicSo AI for Generating Inappropriate Content Emphasizing \\\\\"Girls\\\\\"\"},{\"title\":\"Bankrate\\'s Resumption of AI-Generated Content Allegedly Continuing to Produce Inaccurate and Misleading Information\"},{\"title\":\"Alleged Exploitation of Meta\\'s Open-Source LLaMA Model for NSFW and Violent Content\"},{\"title\":\"Harmful Stereotyping of Non-Cisgendered People via Text-to-Image Systems\"},{\"title\":\"Alleged Gender Discrimination in Facebook Job Ads Algorithm\"},{\"title\":\"Google Ads Allegedly Serving Content on AI-Generated Misinformation Sites\"},{\"title\":\"Racial Bias in Lung Function Diagnostic Algorithm Leads to Underdiagnosis in Black Men\"},{\"title\":\"Instagram Algorithms Allegedly Promote Accounts Facilitating Child Sex Abuse Content\"},{\"title\":\"Illinois Residents File Class Action Lawsuit Against Facial Recognition Technology Companies for Allegedly Violating BIPA\"},{\"title\":\"Kremlin-Linked Entities Allegedly Using Generative AI to Spread Russian Disinformation in Latin America\"},{\"title\":\"FTC Targets Edmodo for Unlawful Use of Children’s Data and Delegating Compliance to Schools\"},{\"title\":\"Apparent Failure to Accurately Label Primates in Image Recognition Software Due to Alleged Fear of Racial Bias\"},{\"title\":\"Australian Terrorism Prediction Tool Disparately Impacts Persons with Autism\"},{\"title\":\"Proliferation of AI-Generated News Websites and Content Farms Across Multiple Languages Degrading Information Integrity\"},{\"title\":\"Alleged ChatGPT-Generated Book with a Duplicate Title, Fake Author, and Similar Content Surfaces on Amazon Ahead of Real Author\\'s Book Release\"},{\"title\":\"Cigna Algorithm PXDX Allegedly Rejected Thousands of Patient Claims En Masse in Breach of California Law\"},{\"title\":\"Facial Recognition Misidentifies Pregnant Woman Leading to False Arrest in Detroit\"},{\"title\":\"AI Photo Filter Lightens Skin, Changes Eye Color in Student\\'s \\'Professional\\' Image\"},{\"title\":\"AI Meal Planner Suggests Hazardous Chlorine Gas Recipe\"},{\"title\":\"Driverless Cruise Cars Immobilized in San Francisco Traffic Jam\"},{\"title\":\"Cruise\\'s Autonomous Vehicles Allegedly Engaging in Risky Behavior Near Pedestrians\"},{\"title\":\"Students Traumatized as AI-Generated Fake Nudes Are Circulated at New Jersey High School\"},{\"title\":\"False Arrest of Georgia Man Due to Louisiana Police\\'s Faulty Facial Recognition Technology\"},{\"title\":\"Stacking robot fatally crushes employee in South Korea\"},{\"title\":\"South Korean man used AI to create sexual images of children\"},{\"title\":\"AI-Generated Fake Audio of Verbal Abuse Incident Circulates of British Labour Leader Keir Starmer\"},{\"title\":\"Russia Using Artificial Intelligence in Disinformation Campaigns to Erode Western Support for Ukraine\"},{\"title\":\"Algorithmic Allocation of Resources in Healthcare for Disabled and Elderly Care Services Allegedly Harming Patients\"},{\"title\":\"Quebec Man Sentenced for Having Used Deepfake Technology to Create Synthetic Child Pornography\"},{\"title\":\"North Carolina Psychiatrist Used Artificial Intelligence to Produce Images of Child Sex Abuse\"},{\"title\":\"Deepfaked Advertisements Using the Likenesses of Celebrities Such as Tom Hanks and Gayle King Without Their Consent\"},{\"title\":\"Deepfake Video Circulating of British Labour Leader Keir Starmer Touting an Investment Scheme\"},{\"title\":\"UnitedHealth Accused of Deploying  Allegedly Flawed AI to Deny Medical Coverage\"},{\"title\":\"Flawed AI in Google Search Reportedly Misinforms about Geography\"},{\"title\":\"Deepfake Technology Was Used to Generate Naked Pictures of Underage Girls in Spanish Town\"},{\"title\":\"UK Government AI Allegedly Targets Disproportionate Numbers of Certain Nationals for Fraud Review\"},{\"title\":\"Microsoft AI Poll Allegedly Causes Reputational Harm of The Guardian Newspaper\"},{\"title\":\"AI-Generated Images Available through Adobe Stock Misrepresent Real-World Events\"},{\"title\":\"Google Bard Allegedly Generates False Allegations Against Consulting Firms Used in Research Presented in Australian Parliamentary Inquiry\"},{\"title\":\"Colorado Lawyer Filed a Motion Citing Hallucinated ChatGPT Cases\"},{\"title\":\"Sports Illustrated Is Alleged to Have Used AI to Invent Fake Authors and Their Articles\"},{\"title\":\"Male student allegedly used AI to generate nude photos of female classmates at a high school in Issaquah, Washington\"},{\"title\":\"Navy Federal Credit Union Faces Allegations of Racial Bias in Mortgage Approvals\"},{\"title\":\"Rite Aid Facial Recognition Disproportionately Misidentified Minority Shoppers as Shoplifters\"},{\"title\":\"A Robot at a Tesla Factory in Texas Allegedly Injured an Engineer\"},{\"title\":\"Microsoft AI Is Alleged to Have Generated Violent Imagery of Minorities and Public Figures\"},{\"title\":\"Chevrolet Dealer Chatbot Agrees to Sell Tahoe for $1\"},{\"title\":\"Google Bard Allegedly Generated Fake Legal Citations in Michael Cohen Case\"},{\"title\":\"Child Sexual Abuse Material Taints Image Generators\"},{\"title\":\"Proliferation of Products on Amazon Titled with ChatGPT Error Messages\"},{\"title\":\"Social Media Scammers Used Deepfakes of Taylor Swift and Several Other Celebrities in Fraudulent Le Creuset Cookware Giveaways\"},{\"title\":\"Unauthorized AI Impersonation of George Carlin Used in Comedy Special\"},{\"title\":\"Fake Biden Voice in Robocall Misleads New Hampshire Democratic Voters in 2024 Primary Election\"},{\"title\":\"Shein Accused of AI-Driven Art Theft on Merchandise\"},{\"title\":\"Alleged Macy\\'s Facial Recognition Error Leads to Wrongful Arrest and Subsequent Sexual Assault in Jail\"},{\"title\":\"Chatbot for DPD Malfunctioned and Swore at Customers and Criticized Its Own Company\"},{\"title\":\"Significant Increase in Deepfake Nudes of Taylor Swift Circulating on Social Media\"},{\"title\":\"Nine Network\\'s AI Alters Lawmaker Georgie Purcell\\'s Image Inappropriately\"},{\"title\":\"Deepfake CFO Scam Costs Multinational Engineering Firm Arup $25 Million\"},{\"title\":\"AI-Generated Fake News Targets Black Celebrities on YouTube\"},{\"title\":\"AI Romance Apps Reportedly Compromise User Privacy for Data Harvesting\"},{\"title\":\"Gunshot Detection Technology ShotSpotter (now SoundThinking) Reportedly Only Has 47% Accuracy in Chicago System\"},{\"title\":\"Fatal Crash Involving Tesla Full Self-Driving Claims Employee\\'s Life\"},{\"title\":\"Customer Overcharged Due to Air Canada Chatbot\\'s False Discount Claims\"},{\"title\":\"Waymo Software Flaw Leads to Double Collision with Tow Truck\"},{\"title\":\"Nonconsensual Deepfake Porn of Bobbi Althoff Spreads Rapidly on X\"},{\"title\":\"ChatGPT Glitch Disrupts User Interactions with Nonsensical Outputs\"},{\"title\":\"Deepfake Video Falsely Claims Kyiv\\'s Assassination Plan Against President Macron\"},{\"title\":\"State-Sponsored Hackers Escalate Phishing Attacks Using Artificial Intelligence\"},{\"title\":\"Seeming Pattern of Gemini Bias and Sociotechnical Training Failures Harm Google\\'s Reputation\"},{\"title\":\"Snapchat\\'s Algorithm Alleged to Link Minor with Sex Offenders\"},{\"title\":\"A Self-Driving Waymo Robotaxi Reportedly Collided with a Bicyclist\"},{\"title\":\"Alleged Deepfake Audio of Imran Khan Calls for Election Boycott, Misleading Pakistan Voters\"},{\"title\":\"Deepfake Audio Falsely Attributes Controversial Remarks to Keir Starmer About the Rochdale Azhar Ali Crisis\"},{\"title\":\"AI-Generated Images of Trump with Black Voters Spread as Disinformation Before U.S. Primary Elections\"},{\"title\":\"Students at a Beverly Hills Middle School Allegedly Created and Shared Deepfake Nudes of Their Classmates\"},{\"title\":\"Two Florida Middle School Students Arrested Under New Law for Allegedly Having Made and Shared Deepfake Nudes of Their Classmates\"},{\"title\":\"Two Investment Firms Charged with Making False Claims of Artificial Intelligence Capabilities in Case of AI Washing\"},{\"title\":\"Microsoft Copilot Designer Reportedly Generated Inappropriate AI Images\"},{\"title\":\"Scams Reportedly Impersonating Wealthy Investors Proliferating on Facebook\"},{\"title\":\"Alleged Deepfake Disinformation Broadcast by Russian State TV Blames Ukraine for Moscow Attack\"},{\"title\":\"ChatGPT Account Compromise Leads to Unintended Data Exposure\"},{\"title\":\"The Arizona Agenda Produced a Deepfake of Kari Lake Advocating for the Publication Without Her Consent\"},{\"title\":\"Mass Surveillance Facial Recognition Program Reportedly Targets Palestinians in Gaza\"},{\"title\":\"Investigation Reports Unauthorized Deepfake Pornography Harms Thousands of Celebrities\"},{\"title\":\"Leonardo AI\\'s Platform Alleged to Have Been Used for Creating Nonconsensual Celebrity Deepfakes\"},{\"title\":\"Washington State\\'s Lottery AI Site Reportedly Generates Inappropriate User Image\"},{\"title\":\"China Reportedly Intensifying AI to Spread Disinformation to U.S. and Taiwanese Voters\"},{\"title\":\"Deepfake Generated by the Lincoln Project of Trump\\'s Father Used in Political Attack Ad\"},{\"title\":\"Facial Recognition Misidentification at New World Westend in New Zealand\"},{\"title\":\"Presidency of Moldova Refutes Deepfake Video Slandering President Maia Sandu\"},{\"title\":\"Manipulated Deepfake Video of Lai Ching-te Endorsing Rivals in Lead-up to January Presidential Elections\"},{\"title\":\"Proliferation of Deepfakes Disrupting 2024 Lok Sabha Elections\"},{\"title\":\"Deepfake of Long-Deceased Suharto Circulating in Run-up to February 2024 Indonesian Elections\"},{\"title\":\"Deepfakes of Deceased Indian Politicians for Election Campaigning Are Increasingly Being Deployed\"},{\"title\":\"Many Political Deepfakes Circulating in Run-up to 2024 Pakistani General Elections\"},{\"title\":\"Lavender AI System Reportedly Directs Gaza Strikes with High Civilian Casualty Rate\"},{\"title\":\"Deepfakes Circulating and Eroding Electoral Integrity in the Lead-up to 2024 South Korean legislative election\"},{\"title\":\"Manipulated Media via AI Disinformation and Deepfakes in 2024 Elections Erode Trust Across More Than 50 Countries\"},{\"title\":\"Racist and Antisemitic Deepfake Audio Mimicking School Principal Fabricated by Athletic Director\"},{\"title\":\"Deepfake Audio Falsely Depicts Philippines President Ferdinand Marcos Jr. Ordering Military Action\"},{\"title\":\"ChatGPT and Perplexity Reportedly Manipulated into Breaking Content Policies in AI Boyfriend Scenarios\"},{\"title\":\"ChatGPT Factual Errors Lead to Filing of Complaint of GDPR Privacy Violation \"},{\"title\":\"A Deepfake of Senator Elizabeth Warren Circulated Saying Republicans Should Not Vote\"},{\"title\":\"Russia-Linked AI CopyCop Site Identified as Modifying and Producing at Least 19,000 Deceptive Reports\"},{\"title\":\"Never Back Down Super PAC for Ron DeSantis Uses AI Donald Trump Voice in Attack Ad Against Kim Reynolds\"},{\"title\":\"GOP Pollster Shares AI-Generated Images to Fabricate Appearance of Black Voter Support\"},{\"title\":\"Scammers Using Deepfakes of Women\\'s Faces and Voices for False and Offensive Advertisements\"},{\"title\":\"Google Books Appears to Be Indexing Works Written by AI\"},{\"title\":\"The WHO\\'s S.A.R.A.H. Bot Reported to Provide Inconsistent and Inadequate Health Information\"},{\"title\":\"Meta AI Image Generator Reportedly Fails to Accurately Represent Interracial Relationships\"},{\"title\":\"Deepfake Porn Sites Use Breeze Liu\\'s Image Without Consent\"},{\"title\":\"Scarlett Johansson Alleges OpenAI\\'s Sky Imitates Her Voice Without Licensing\"},{\"title\":\"Holmen, Wisconsin Man Allegedly Used Stable Diffusion to Create and Then Share Sexually Explicit Images Depicting Minors\"},{\"title\":\"ISIS Utilizes AI for Propaganda Videos in News Harvest Program\"},{\"title\":\"Facewatch Reported to Have Wrongfully Flagged Home Bargains Customer as Shoplifter\"},{\"title\":\"London Metropolitan Police\\'s Facial Recognition Technology Reportedly Misidentified Shaun Thompson as Suspect Leading to Arrest\"},{\"title\":\"Google AI Reportedly Delivering Confidently Incorrect and Harmful Information\"},{\"title\":\"Republican AI Ad Depicts Dystopian Future After Biden Reelection Announcement\"},{\"title\":\"Donald Trump\\'s Presidential Campaign Released Deepfakes Attacking Ron DeSantis\"},{\"title\":\"Meta\\'s AI Ad Platform Reportedly Causes Overspending and Poor Performance\"},{\"title\":\"Deepfake Image Circulating of Donald Trump with Underage Girl at Jeffrey Epstein\\'s Private Island\"},{\"title\":\"Deepfake Video of Ron DeSantis Dropping Out of 2024 Presidential Race Circulating\"},{\"title\":\"VA Suicide Prevention Algorithm REACH VET Reportedly Prioritizes Men Over Women Veterans\"},{\"title\":\"Meta\\'s AI Chatbots Are Entering Online Support Communities Uninvited\"},{\"title\":\"American Asylum Seeker John Mark Dougan in Russia Reportedly Spreads Disinformation via AI Tools and Fake News Network\"},{\"title\":\"Disinformation Deepfake Circulates of State Department Spokesman Matthew Miller Suggesting Belgorod Can Be Attacked with U.S. Weapons\"},{\"title\":\"Deepfake Audio Sparks False Claims of Biden Threatening Texas with F-15s\"},{\"title\":\"Study Highlights Persistent Hallucinations in Legal AI Systems\"},{\"title\":\"Turkish Student in Isparta Allegedly Uses AI to Cheat on Exam, Leading to Arrest\"},{\"title\":\"Scammers Using AI to Impersonate Small Businesses\"},{\"title\":\"Tesla Reportedly in Autopilot Mode Hits Parked Police Vehicle in Fullerton, California\"},{\"title\":\"Faulty AI Transcription Threatens Integrity of Genoa Bribery Probe\"},{\"title\":\"Unrepresented Litigant Misled by ChatGPT-Generated False Legal Citations in Manchester Court\"},{\"title\":\"Facebook AI Mislabels Auschwitz Photos as \\\\\"Bullying\\\\\" and \\\\\"Nudity\\\\\"\"},{\"title\":\"NHTSA Opens New Probe into Tesla’s Autopilot Following More than a Dozen Fatal Accidents\"},{\"title\":\"Meta AI Hallucinates Harassment Allegations Against New York Politicians\"},{\"title\":\"Deepfake Video Falsely Depicts Biden Announcing National Draft for Ukraine\"},{\"title\":\"Microsoft-Powered New York City Chatbot Advises Illegal Practices\"},{\"title\":\"Over 400 AI-Driven Scams Reportedly Led to $8M Loss for Australians in 2023\"},{\"title\":\"Algorithmic Staffing Failures Linked to Resident Deaths at Leading Assisted-Living Chain Brookdale\"},{\"title\":\"Fake AI-Generated Law Firms Sent Fake DMCA Notices to Increase SEO\"},{\"title\":\"OpenAI, Google, and Meta Alleged to Have Overstepped Legal Boundaries for Training AI\"},{\"title\":\"Grok AI on X Created and Promoted False Iran Missile Strike News\"},{\"title\":\"Deepfake Video Targets Paul Vallas on Eve of Chicago Mayoral Election\"},{\"title\":\"Fake AI-Generated Students Are Reportedly Enrolling in Online College Classes\"},{\"title\":\"Catholic AI Chatbot \\'Father Justin\\' Claimed to Be a Real Priest, Prompting Retraction\"},{\"title\":\"Instagram Algorithms Reportedly Directed Children\\'s Merchandise Ad Campaign to Adult Men and Sex Offenders\"},{\"title\":\"AI-Generated Papers Manipulate Scopus Rankings in Top Philosophy Journals\"},{\"title\":\"Cartels Reportedly Using AI to Expand Operations into Financial Fraud and Human Trafficking\"},{\"title\":\"A Self-Driving Cruise Robot Taxi Reportedly Struck and Dragged a Pedestrian 20 Feet\"},{\"title\":\"Synthetic Voice \\'Olesya\\' by Storm-1516 Falsely Accuses Ukraine in U.S. Election Disinformation Campaign\"},{\"title\":\"AI Firm Lovo Accused of Illegally Replicating Voice Actors\\' Voices\"},{\"title\":\"GPT-4o\\'s Chinese Tokens Reportedly Compromised by Spam and Pornography Due to Inadequate Filtering\"},{\"title\":\"AI Deepfakes for Voter Outreach Flood Indian Elections\"},{\"title\":\"Hallucinated Software Packages with Potential Malware Downloaded Thousands of Times by Developers\"},{\"title\":\"Whisper Speech-to-Text AI Reportedly Found to Create Violent Hallucinations\"},{\"title\":\"Auto Insurers Allegedly Are Surreptitiously Collecting and Scoring Driver Data\"},{\"title\":\"Leading AI Models Reportedly Found to Mimic Russian Disinformation in 33% of Cases and to Cite Fake Moscow News Sites\"},{\"title\":\"AI Enhances Scammer Tactics Making Detection Harder\"},{\"title\":\"Underground Market for LLMs Powers Malware and Phishing Scams\"},{\"title\":\"Amandine Le Pen Deepfake Account Misleads Thousands on TikTok\"},{\"title\":\"Department for Work and Pensions (DWP) Algorithm Wrongly Flags 200,000 for Housing Benefit Fraud\"},{\"title\":\"Scammers Use Deepfake of Hong Kong Entertainer Andy Lau to Steal NT$2.64 Million from Fan\"},{\"title\":\"Department for Work and Pensions (DWP) AI Systems Allegedly Discriminate Against Single Mothers\"},{\"title\":\"Robin Williams\\'s Voice Deepfaked Without Consent\"},{\"title\":\"Grok AI Model Reportedly Fails to Produce Reliable News in Wake of Trump Assassination Attempt\"},{\"title\":\"Gemini AI Allegedly Reads Google Drive Files Without Explicit User Consent\"},{\"title\":\"AI Work Assistants Require More Effort Than Expected, CIOs Say\"},{\"title\":\"Figma Disables AI Feature After Accusations of Copying Apple’s Weather App\"},{\"title\":\"Class Action Lawsuit Over Alleged Defects in Volkswagen\\'s AI-Driven AEB Systems\"},{\"title\":\"Fatalities Reportedly Occur Despite VioGén Algorithm\\'s Low or Negligible Risk Scores\"},{\"title\":\"Erroneous Declined Transaction Notification by PayPal AI Assistant\"},{\"title\":\"Hoodline Accused of Misleadingly Attributing AI-Generated Articles to Human Authors\"},{\"title\":\"AI Chatbots Reportedly Inaccurately Conveyed Real-Time Political News\"},{\"title\":\"SearchGPT Reportedly Misleads Users with Incorrect Festival Dates in Demo\"},{\"title\":\"AI-Generated Obituaries Are Reportedly Intensifying Grief for Bereaved Families\"},{\"title\":\"BNN Breaking\\'s AI-Driven Errors Reportedly Damage Reputations and Spread Misinformation\"},{\"title\":\"British Female Politicians Victimized by Deepfake Pornography\"},{\"title\":\"Deepfake Targets Olena Zelenska in Russian Disinformation Campaign\"},{\"title\":\"Deepfake of Kamala Harris Saying Damaging Comments Circulates on X and Is Amplified by Elon Musk\"},{\"title\":\"OpenAI\\'s ChatGPT Mac App Stored User Data in Unencrypted Text Files\"},{\"title\":\"Teen\\'s Overdose Reportedly Linked to Meta\\'s AI Systems Failing to Block Ads for Illegal Drugs\"},{\"title\":\"AI-Generated Deepfakes Reportedly Derailed Political Career of Florida Official\"},{\"title\":\"False Election Data on Kamala Harris Reportedly Circulated via Grok AI Chatbot\"},{\"title\":\"TikTok AI System Used to Amplify Election Disinformation by Foreign Networks\"},{\"title\":\"Grok AI Reportedly Generates Offensive and Violent Images Without Proper Safeguards\"},{\"title\":\"Grok AI Chatbot Reportedly Spreads Unfounded Rumors About Trump’s Dentures\"},{\"title\":\"Cody Enterprise Reporter Resigns After Admitting to AI-Generated Fake Quotes\"},{\"title\":\"22 Students at Richmond-Burton Community High School in Illinois Targeted by Deepfake Nudes\"},{\"title\":\"Trump Shares AI-Generated Images Falsely Suggesting Taylor Swift Endorsement\"},{\"title\":\"AI Image of Kamala Harris at DNC with Communist Flags Circulated by Trump\"},{\"title\":\"ChatGPT Implicated in Samsung Data Leak of Source Code and Meeting Notes\"},{\"title\":\"Investigative Journalist Rana Ayyub Targeted by AI-Generated Deepfake Pornography\"},{\"title\":\"Microsoft Copilot Falsely Accuses Journalist Martin Bernklau of Crimes\"},{\"title\":\"Noelle Martin Deepfaked Without Consent in AI-Generated Pornography\"},{\"title\":\"Kristen Bell Deepfaked in Non-Consensual AI-Generated Pornography\"},{\"title\":\"Chatbot in Workplace Training at Bunbury Prison Reveals Real Names in Sexual Harassment Case\"},{\"title\":\"Covert AI Influence Operations Linked to Russia, China, Iran, and Israel, OpenAI Reveals\"},{\"title\":\"Elon Musk Reportedly Shared an AI-Generated Image Depicting Kamala Harris Dressed as a Communist Ruler\"},{\"title\":\"Megalopolis Trailer Included Fake AI-Generated Quotes Attributed to Film Critics\"},{\"title\":\"South Korea Experiences a Surge of Explicit Deepfake Pornography\"},{\"title\":\"Amazon\\'s Alexa Reportedly Shows Political Preference Error in Trump-Harris Presidential Race Queries\"},{\"title\":\"Music Producer Arrested for Allegedly Using AI-Generated Songs in $10 Million Streaming Scam\"},{\"title\":\"Joint Base Elmendorf-Richardson Soldier Faces Allegations of Using AI to Generate Child Pornography\"},{\"title\":\"Clearview AI Faces $33.7 Million Fine for Violating GDPR with Biometric Data Harvesting\"},{\"title\":\"AI \\'Nudify\\' Apps Used as Tools for Blackmail and Extortion\"},{\"title\":\"WiseTech Global CEO Richard White Reportedly Deepfaked in Multiple Attempts to Scam Staffers\"},{\"title\":\"Child Predators Are Reportedly Generating Deepfake Nudes of Children to Extort Them\"},{\"title\":\"ESPN\\'s AI Coverage Overlooks Alex Morgan in Her Final Match Recap\"},{\"title\":\"Fraudsters Use Deepfake Video of Tim Cook to Promote Apple Crypto Scam on YouTube\"},{\"title\":\"Deepfake ID Sales Persist as OnlyFake Relaunches with New Fraud Tools\"},{\"title\":\"Instagram\\'s Algorithm Reportedly Recommended Sexual Content to Teenagers\\' Accounts\"},{\"title\":\"Independent News Sites Flagged as Spam by Facebook\\'s AI Moderation System\"},{\"title\":\"Unrestricted AI Avatar Tool Accidentally Released by TikTok Permits Recitation of Hitler Quotes and Other Harmful Speech\"},{\"title\":\"Google AI Error Prompts Parents to Use Fecal Matter in Child Training Exercise\"},{\"title\":\"Unauthorized Use of AI to Replicate Tupac Shakur\\'s and Snoop Dogg\\'s Voices in Drake\\'s \\'Taylor Made Freestyle\\'\"},{\"title\":\"AllHere\\'s Chatbot \\'Ed\\' Fails and Costs Los Angeles Unified School District $6 Million\"},{\"title\":\"Glitch in Waymo Self-Driving Cars Triggers Regular All-Night Honking in San Francisco\"},{\"title\":\"Deepfake Elon Musk Videos Have Reportedly Contributed to Billions in Fraud\"},{\"title\":\"Facebook\\'s Content Moderation System Flagged and Removed Emergency Updates as Spam During Wildfires\"},{\"title\":\"Teenager Makes Deepfake Pornography of 50 Girls at Bacchus Marsh Grammar School in Australia\"},{\"title\":\"Australian Schools Grappling with Significant Spread of Non-Consensual Spread of Deepfake Pornography of Students\"},{\"title\":\"Aledo High School Student Generates and Distributes Deepfake Nudes of Seven Female Classmates\"},{\"title\":\"53% of American and British Businesses Report Attacks by AI-Powered Deepfake Scams in 2024\"},{\"title\":\"Bias in AI Deepfake Detection Undermines Election Security in Global South\"},{\"title\":\"AI Deepfake of Brian May Exploited in Scam Offering Fake Queen Backstage Tickets\"},{\"title\":\"Facebook\\'s Algorithm Reportedly Amplifies AI-Generated Content, Fueling Misleading Posts\"},{\"title\":\"AI-Generated Fake \\'True Crime\\' Video About Non-Existent Littleton Murder Goes Viral\"},{\"title\":\"Senator Ben Cardin Targeted with Deepfake Zoom Video Call Posing as Former Ukrainian Foreign Minister Dmytro Kuleba\"},{\"title\":\"Criminal Group Uses AI Deepfake Technology to Steal Personal Data in Hangzhou, Zhejiang\"},{\"title\":\"ChatGPT Introduces Errors in Critical Child Protection Court Report\"},{\"title\":\"Infinite Campus AI-Driven Student Risk Model Leads to Cuts in Support for Nevada\\'s Low-Income Schools\"},{\"title\":\"TikTok Hosts AI-Generated English-Language Hitler Speeches with Millions of Views\"},{\"title\":\"TikTok Network Amplifies AI-Generated Nazi Propaganda and Hate Speech\"},{\"title\":\"AI-Powered Transcription Services Allegedly Leak Confidential Workplace Discussions\"},{\"title\":\"Deepfake Nudes Targeting Underage Female Students at Collège Béliveau in Winnipeg Shared Online\"},{\"title\":\"Starship Technologies Delivery Robot Injures Arizona State University Employee\"},{\"title\":\"AI Avatar of Murder Victim Created Without Consent on Character.AI Platform\"},{\"title\":\"Police Use of Facial Recognition Software Causes Wrongful Arrests Without Defendant Knowledge\"},{\"title\":\"Cross-Jurisdictional Facial Recognition Misidentification by NYPD Leads to Wrongful Arrest and Four-Year Jail Time in New Jersey\"},{\"title\":\"AI-Generated Images Spread Misinformation During Hurricane Helene Response\"},{\"title\":\"Jennifer Aniston’s Likeness Exploited in Deepfake Collagen Supplement Promotion\"},{\"title\":\"ProKYC Tool Allegedly Facilitates Deepfake-Based Account Fraud on Cryptocurrency Exchanges\"},{\"title\":\"Alleged AI-Generated Photo Alteration Leads to Inappropriate Modifications in Speaker\\'s Conference Picture\"},{\"title\":\"Baidu Robotaxi Allegedly Involved in Collision with Pedestrian in Wuhan\"},{\"title\":\"Algorithmic Bias in French Welfare System Allegedly Discriminates Against Marginalized Groups\"},{\"title\":\"Cybercheck Tool Allegedly Provides Questionable Evidence in Murder Trials\"},{\"title\":\"Fake Video Allegedly Misattributes False Claims to Former Student in Attack on Vice-Presidential Candidate Tim Walz\"},{\"title\":\"AI News Site Hoodline San Jose Erroneously Misidentifies San Mateo District Attorney as Murder Suspect\"},{\"title\":\"Character.AI Chatbot Allegedly Influenced Teen User Toward Suicide Amid Claims of Missing Guardrails\"},{\"title\":\"AI Transcription Tool Whisper Reportedly Inserting Fabricated Content in Medical Transcripts\"},{\"title\":\"Uruguayan TV Program Santo y Seña Uses a Deepfake of Political Candidate Yamandú Orsi Without His Consent\"},{\"title\":\"Facial Recognition System in Buenos Aires Triggers Police Checks Based on False Matches\"},{\"title\":\"Error-Prone AI Accessibility Tools Reportedly Lead to Navigation Issues for Blind Internet Users\"},{\"title\":\"NYC Subway AI Weapons Scanners Yield High False Positive Rate and Detect No Guns in Month-Long Pilot Test\"},{\"title\":\"Viral AI-Generated Song about \\\\\"Diddy Party\\\\\" Mimics Justin Bieber\"},{\"title\":\"Polish Radio Station Replaces Human Hosts with AI-Generated Presenters to Simulate Interviewing Deceased Poet Wisława Szymborska\"},{\"title\":\"政法机关依法打击治理AI犯罪 守住人工智能技术应用法治底线\"},{\"title\":\"AI Technology Allegedly Fuels False Reports of Natural Disasters and Accidents in China\"},{\"title\":\"Sichuan Province Beset by Numerous Fabricated AI-Generated Reports of Disasters and Crises\"},{\"title\":\"Fake CNN Broadcast Allegedly Used to Spread False Texas Election Results\"},{\"title\":\"Microsoft Copilot Allegedly Provides Unsafe Medical Advice with High Risk of Severe Harm\"},{\"title\":\"AI-Driven Phishing Scam Uses Spoofed Google Call to Attempt Gmail Breach\"},{\"title\":\"AI-Generated Media Reportedly Used in Russian Disinformation Campaign in Moldova\"},{\"title\":\"Fake Video Allegedly Targets Moldovan Economic Development Minister Dumitru Alaiba in Election Disinformation Campaign\"},{\"title\":\"Reportedly Hacked AI-Powered Robot Vacuums Allegedly Used for Surveillance and Harassment\"}]}}\\n'"
      ]
     },
     "execution_count": 58,
     "metadata": {},
     "output_type": "execute_result"
    }
   ],
   "source": [
    "minimal_example_response.text"
   ]
  },
  {
   "cell_type": "code",
   "execution_count": 59,
   "id": "2c5f3c5b",
   "metadata": {},
   "outputs": [
    {
     "data": {
      "text/plain": [
       "[{'title': 'Las Vegas Self-Driving Bus Involved in Accident'},\n",
       " {'title': 'Uber AV Killed Pedestrian in Arizona'},\n",
       " {'title': 'Google’s YouTube Kids App Presents Inappropriate Content'},\n",
       " {'title': 'Gender Biases of Google Image Search'},\n",
       " {'title': 'Common Biases of Vector Embeddings'}]"
      ]
     },
     "execution_count": 59,
     "metadata": {},
     "output_type": "execute_result"
    }
   ],
   "source": [
    "minimal_example_response.json()['data']['incidents'][0:5]"
   ]
  },
  {
   "cell_type": "code",
   "execution_count": 5,
   "id": "0fcf4a13",
   "metadata": {},
   "outputs": [],
   "source": [
    "import requests\n",
    "import json\n",
    "\n",
    "def post_query(query, variables={}):\n",
    "    response = requests.post(\n",
    "        'https://incidentdatabase.ai/api/graphql',\n",
    "        data=json.dumps({ \"query\": query, \"variables\": variables }),\n",
    "        headers={\"content-type\": \"application/json\"}\n",
    "    )\n",
    "    response_json = response.json()\n",
    "    if response_json.get('errors'):\n",
    "        raise Exception(response_json['errors'])\n",
    "    return response_json['data']"
   ]
  },
  {
   "cell_type": "code",
   "execution_count": 60,
   "id": "55f143bf",
   "metadata": {},
   "outputs": [
    {
     "ename": "ConnectionError",
     "evalue": "HTTPSConnectionPool(host='incidentdatabase.ai', port=443): Max retries exceeded with url: /api/graphql (Caused by NewConnectionError('<urllib3.connection.HTTPSConnection object at 0x7f32456fc250>: Failed to establish a new connection: [Errno -5] No address associated with hostname'))",
     "output_type": "error",
     "traceback": [
      "\u001b[0;31m---------------------------------------------------------------------------\u001b[0m",
      "\u001b[0;31mgaierror\u001b[0m                                  Traceback (most recent call last)",
      "File \u001b[0;32m/usr/lib/python3/dist-packages/urllib3/connection.py:174\u001b[0m, in \u001b[0;36mHTTPConnection._new_conn\u001b[0;34m(self)\u001b[0m\n\u001b[1;32m    173\u001b[0m \u001b[38;5;28;01mtry\u001b[39;00m:\n\u001b[0;32m--> 174\u001b[0m     conn \u001b[38;5;241m=\u001b[39m \u001b[43mconnection\u001b[49m\u001b[38;5;241;43m.\u001b[39;49m\u001b[43mcreate_connection\u001b[49m\u001b[43m(\u001b[49m\n\u001b[1;32m    175\u001b[0m \u001b[43m        \u001b[49m\u001b[43m(\u001b[49m\u001b[38;5;28;43mself\u001b[39;49m\u001b[38;5;241;43m.\u001b[39;49m\u001b[43m_dns_host\u001b[49m\u001b[43m,\u001b[49m\u001b[43m \u001b[49m\u001b[38;5;28;43mself\u001b[39;49m\u001b[38;5;241;43m.\u001b[39;49m\u001b[43mport\u001b[49m\u001b[43m)\u001b[49m\u001b[43m,\u001b[49m\u001b[43m \u001b[49m\u001b[38;5;28;43mself\u001b[39;49m\u001b[38;5;241;43m.\u001b[39;49m\u001b[43mtimeout\u001b[49m\u001b[43m,\u001b[49m\u001b[43m \u001b[49m\u001b[38;5;241;43m*\u001b[39;49m\u001b[38;5;241;43m*\u001b[39;49m\u001b[43mextra_kw\u001b[49m\n\u001b[1;32m    176\u001b[0m \u001b[43m    \u001b[49m\u001b[43m)\u001b[49m\n\u001b[1;32m    178\u001b[0m \u001b[38;5;28;01mexcept\u001b[39;00m SocketTimeout:\n",
      "File \u001b[0;32m/usr/lib/python3/dist-packages/urllib3/util/connection.py:73\u001b[0m, in \u001b[0;36mcreate_connection\u001b[0;34m(address, timeout, source_address, socket_options)\u001b[0m\n\u001b[1;32m     69\u001b[0m     \u001b[38;5;28;01mreturn\u001b[39;00m six\u001b[38;5;241m.\u001b[39mraise_from(\n\u001b[1;32m     70\u001b[0m         LocationParseError(\u001b[38;5;124m\"\u001b[39m\u001b[38;5;124m'\u001b[39m\u001b[38;5;132;01m%s\u001b[39;00m\u001b[38;5;124m'\u001b[39m\u001b[38;5;124m, label empty or too long\u001b[39m\u001b[38;5;124m\"\u001b[39m \u001b[38;5;241m%\u001b[39m host), \u001b[38;5;28;01mNone\u001b[39;00m\n\u001b[1;32m     71\u001b[0m     )\n\u001b[0;32m---> 73\u001b[0m \u001b[38;5;28;01mfor\u001b[39;00m res \u001b[38;5;129;01min\u001b[39;00m \u001b[43msocket\u001b[49m\u001b[38;5;241;43m.\u001b[39;49m\u001b[43mgetaddrinfo\u001b[49m\u001b[43m(\u001b[49m\u001b[43mhost\u001b[49m\u001b[43m,\u001b[49m\u001b[43m \u001b[49m\u001b[43mport\u001b[49m\u001b[43m,\u001b[49m\u001b[43m \u001b[49m\u001b[43mfamily\u001b[49m\u001b[43m,\u001b[49m\u001b[43m \u001b[49m\u001b[43msocket\u001b[49m\u001b[38;5;241;43m.\u001b[39;49m\u001b[43mSOCK_STREAM\u001b[49m\u001b[43m)\u001b[49m:\n\u001b[1;32m     74\u001b[0m     af, socktype, proto, canonname, sa \u001b[38;5;241m=\u001b[39m res\n",
      "File \u001b[0;32m/usr/lib/python3.11/socket.py:962\u001b[0m, in \u001b[0;36mgetaddrinfo\u001b[0;34m(host, port, family, type, proto, flags)\u001b[0m\n\u001b[1;32m    961\u001b[0m addrlist \u001b[38;5;241m=\u001b[39m []\n\u001b[0;32m--> 962\u001b[0m \u001b[38;5;28;01mfor\u001b[39;00m res \u001b[38;5;129;01min\u001b[39;00m \u001b[43m_socket\u001b[49m\u001b[38;5;241;43m.\u001b[39;49m\u001b[43mgetaddrinfo\u001b[49m\u001b[43m(\u001b[49m\u001b[43mhost\u001b[49m\u001b[43m,\u001b[49m\u001b[43m \u001b[49m\u001b[43mport\u001b[49m\u001b[43m,\u001b[49m\u001b[43m \u001b[49m\u001b[43mfamily\u001b[49m\u001b[43m,\u001b[49m\u001b[43m \u001b[49m\u001b[38;5;28;43mtype\u001b[39;49m\u001b[43m,\u001b[49m\u001b[43m \u001b[49m\u001b[43mproto\u001b[49m\u001b[43m,\u001b[49m\u001b[43m \u001b[49m\u001b[43mflags\u001b[49m\u001b[43m)\u001b[49m:\n\u001b[1;32m    963\u001b[0m     af, socktype, proto, canonname, sa \u001b[38;5;241m=\u001b[39m res\n",
      "\u001b[0;31mgaierror\u001b[0m: [Errno -5] No address associated with hostname",
      "\nDuring handling of the above exception, another exception occurred:\n",
      "\u001b[0;31mNewConnectionError\u001b[0m                        Traceback (most recent call last)",
      "File \u001b[0;32m/usr/lib/python3/dist-packages/urllib3/connectionpool.py:704\u001b[0m, in \u001b[0;36mHTTPConnectionPool.urlopen\u001b[0;34m(self, method, url, body, headers, retries, redirect, assert_same_host, timeout, pool_timeout, release_conn, chunked, body_pos, **response_kw)\u001b[0m\n\u001b[1;32m    703\u001b[0m \u001b[38;5;66;03m# Make the request on the httplib connection object.\u001b[39;00m\n\u001b[0;32m--> 704\u001b[0m httplib_response \u001b[38;5;241m=\u001b[39m \u001b[38;5;28;43mself\u001b[39;49m\u001b[38;5;241;43m.\u001b[39;49m\u001b[43m_make_request\u001b[49m\u001b[43m(\u001b[49m\n\u001b[1;32m    705\u001b[0m \u001b[43m    \u001b[49m\u001b[43mconn\u001b[49m\u001b[43m,\u001b[49m\n\u001b[1;32m    706\u001b[0m \u001b[43m    \u001b[49m\u001b[43mmethod\u001b[49m\u001b[43m,\u001b[49m\n\u001b[1;32m    707\u001b[0m \u001b[43m    \u001b[49m\u001b[43murl\u001b[49m\u001b[43m,\u001b[49m\n\u001b[1;32m    708\u001b[0m \u001b[43m    \u001b[49m\u001b[43mtimeout\u001b[49m\u001b[38;5;241;43m=\u001b[39;49m\u001b[43mtimeout_obj\u001b[49m\u001b[43m,\u001b[49m\n\u001b[1;32m    709\u001b[0m \u001b[43m    \u001b[49m\u001b[43mbody\u001b[49m\u001b[38;5;241;43m=\u001b[39;49m\u001b[43mbody\u001b[49m\u001b[43m,\u001b[49m\n\u001b[1;32m    710\u001b[0m \u001b[43m    \u001b[49m\u001b[43mheaders\u001b[49m\u001b[38;5;241;43m=\u001b[39;49m\u001b[43mheaders\u001b[49m\u001b[43m,\u001b[49m\n\u001b[1;32m    711\u001b[0m \u001b[43m    \u001b[49m\u001b[43mchunked\u001b[49m\u001b[38;5;241;43m=\u001b[39;49m\u001b[43mchunked\u001b[49m\u001b[43m,\u001b[49m\n\u001b[1;32m    712\u001b[0m \u001b[43m\u001b[49m\u001b[43m)\u001b[49m\n\u001b[1;32m    714\u001b[0m \u001b[38;5;66;03m# If we're going to release the connection in ``finally:``, then\u001b[39;00m\n\u001b[1;32m    715\u001b[0m \u001b[38;5;66;03m# the response doesn't need to know about the connection. Otherwise\u001b[39;00m\n\u001b[1;32m    716\u001b[0m \u001b[38;5;66;03m# it will also try to release it and we'll have a double-release\u001b[39;00m\n\u001b[1;32m    717\u001b[0m \u001b[38;5;66;03m# mess.\u001b[39;00m\n",
      "File \u001b[0;32m/usr/lib/python3/dist-packages/urllib3/connectionpool.py:387\u001b[0m, in \u001b[0;36mHTTPConnectionPool._make_request\u001b[0;34m(self, conn, method, url, timeout, chunked, **httplib_request_kw)\u001b[0m\n\u001b[1;32m    386\u001b[0m \u001b[38;5;28;01mtry\u001b[39;00m:\n\u001b[0;32m--> 387\u001b[0m     \u001b[38;5;28;43mself\u001b[39;49m\u001b[38;5;241;43m.\u001b[39;49m\u001b[43m_validate_conn\u001b[49m\u001b[43m(\u001b[49m\u001b[43mconn\u001b[49m\u001b[43m)\u001b[49m\n\u001b[1;32m    388\u001b[0m \u001b[38;5;28;01mexcept\u001b[39;00m (SocketTimeout, BaseSSLError) \u001b[38;5;28;01mas\u001b[39;00m e:\n\u001b[1;32m    389\u001b[0m     \u001b[38;5;66;03m# Py2 raises this as a BaseSSLError, Py3 raises it as socket timeout.\u001b[39;00m\n",
      "File \u001b[0;32m/usr/lib/python3/dist-packages/urllib3/connectionpool.py:1045\u001b[0m, in \u001b[0;36mHTTPSConnectionPool._validate_conn\u001b[0;34m(self, conn)\u001b[0m\n\u001b[1;32m   1044\u001b[0m \u001b[38;5;28;01mif\u001b[39;00m \u001b[38;5;129;01mnot\u001b[39;00m \u001b[38;5;28mgetattr\u001b[39m(conn, \u001b[38;5;124m\"\u001b[39m\u001b[38;5;124msock\u001b[39m\u001b[38;5;124m\"\u001b[39m, \u001b[38;5;28;01mNone\u001b[39;00m):  \u001b[38;5;66;03m# AppEngine might not have  `.sock`\u001b[39;00m\n\u001b[0;32m-> 1045\u001b[0m     \u001b[43mconn\u001b[49m\u001b[38;5;241;43m.\u001b[39;49m\u001b[43mconnect\u001b[49m\u001b[43m(\u001b[49m\u001b[43m)\u001b[49m\n\u001b[1;32m   1047\u001b[0m \u001b[38;5;28;01mif\u001b[39;00m \u001b[38;5;129;01mnot\u001b[39;00m conn\u001b[38;5;241m.\u001b[39mis_verified:\n",
      "File \u001b[0;32m/usr/lib/python3/dist-packages/urllib3/connection.py:358\u001b[0m, in \u001b[0;36mHTTPSConnection.connect\u001b[0;34m(self)\u001b[0m\n\u001b[1;32m    356\u001b[0m \u001b[38;5;28;01mdef\u001b[39;00m \u001b[38;5;21mconnect\u001b[39m(\u001b[38;5;28mself\u001b[39m):\n\u001b[1;32m    357\u001b[0m     \u001b[38;5;66;03m# Add certificate verification\u001b[39;00m\n\u001b[0;32m--> 358\u001b[0m     \u001b[38;5;28mself\u001b[39m\u001b[38;5;241m.\u001b[39msock \u001b[38;5;241m=\u001b[39m conn \u001b[38;5;241m=\u001b[39m \u001b[38;5;28;43mself\u001b[39;49m\u001b[38;5;241;43m.\u001b[39;49m\u001b[43m_new_conn\u001b[49m\u001b[43m(\u001b[49m\u001b[43m)\u001b[49m\n\u001b[1;32m    359\u001b[0m     hostname \u001b[38;5;241m=\u001b[39m \u001b[38;5;28mself\u001b[39m\u001b[38;5;241m.\u001b[39mhost\n",
      "File \u001b[0;32m/usr/lib/python3/dist-packages/urllib3/connection.py:186\u001b[0m, in \u001b[0;36mHTTPConnection._new_conn\u001b[0;34m(self)\u001b[0m\n\u001b[1;32m    185\u001b[0m \u001b[38;5;28;01mexcept\u001b[39;00m SocketError \u001b[38;5;28;01mas\u001b[39;00m e:\n\u001b[0;32m--> 186\u001b[0m     \u001b[38;5;28;01mraise\u001b[39;00m NewConnectionError(\n\u001b[1;32m    187\u001b[0m         \u001b[38;5;28mself\u001b[39m, \u001b[38;5;124m\"\u001b[39m\u001b[38;5;124mFailed to establish a new connection: \u001b[39m\u001b[38;5;132;01m%s\u001b[39;00m\u001b[38;5;124m\"\u001b[39m \u001b[38;5;241m%\u001b[39m e\n\u001b[1;32m    188\u001b[0m     )\n\u001b[1;32m    190\u001b[0m \u001b[38;5;28;01mreturn\u001b[39;00m conn\n",
      "\u001b[0;31mNewConnectionError\u001b[0m: <urllib3.connection.HTTPSConnection object at 0x7f32456fc250>: Failed to establish a new connection: [Errno -5] No address associated with hostname",
      "\nDuring handling of the above exception, another exception occurred:\n",
      "\u001b[0;31mMaxRetryError\u001b[0m                             Traceback (most recent call last)",
      "File \u001b[0;32m/usr/lib/python3/dist-packages/requests/adapters.py:489\u001b[0m, in \u001b[0;36mHTTPAdapter.send\u001b[0;34m(self, request, stream, timeout, verify, cert, proxies)\u001b[0m\n\u001b[1;32m    488\u001b[0m \u001b[38;5;28;01mif\u001b[39;00m \u001b[38;5;129;01mnot\u001b[39;00m chunked:\n\u001b[0;32m--> 489\u001b[0m     resp \u001b[38;5;241m=\u001b[39m \u001b[43mconn\u001b[49m\u001b[38;5;241;43m.\u001b[39;49m\u001b[43murlopen\u001b[49m\u001b[43m(\u001b[49m\n\u001b[1;32m    490\u001b[0m \u001b[43m        \u001b[49m\u001b[43mmethod\u001b[49m\u001b[38;5;241;43m=\u001b[39;49m\u001b[43mrequest\u001b[49m\u001b[38;5;241;43m.\u001b[39;49m\u001b[43mmethod\u001b[49m\u001b[43m,\u001b[49m\n\u001b[1;32m    491\u001b[0m \u001b[43m        \u001b[49m\u001b[43murl\u001b[49m\u001b[38;5;241;43m=\u001b[39;49m\u001b[43murl\u001b[49m\u001b[43m,\u001b[49m\n\u001b[1;32m    492\u001b[0m \u001b[43m        \u001b[49m\u001b[43mbody\u001b[49m\u001b[38;5;241;43m=\u001b[39;49m\u001b[43mrequest\u001b[49m\u001b[38;5;241;43m.\u001b[39;49m\u001b[43mbody\u001b[49m\u001b[43m,\u001b[49m\n\u001b[1;32m    493\u001b[0m \u001b[43m        \u001b[49m\u001b[43mheaders\u001b[49m\u001b[38;5;241;43m=\u001b[39;49m\u001b[43mrequest\u001b[49m\u001b[38;5;241;43m.\u001b[39;49m\u001b[43mheaders\u001b[49m\u001b[43m,\u001b[49m\n\u001b[1;32m    494\u001b[0m \u001b[43m        \u001b[49m\u001b[43mredirect\u001b[49m\u001b[38;5;241;43m=\u001b[39;49m\u001b[38;5;28;43;01mFalse\u001b[39;49;00m\u001b[43m,\u001b[49m\n\u001b[1;32m    495\u001b[0m \u001b[43m        \u001b[49m\u001b[43massert_same_host\u001b[49m\u001b[38;5;241;43m=\u001b[39;49m\u001b[38;5;28;43;01mFalse\u001b[39;49;00m\u001b[43m,\u001b[49m\n\u001b[1;32m    496\u001b[0m \u001b[43m        \u001b[49m\u001b[43mpreload_content\u001b[49m\u001b[38;5;241;43m=\u001b[39;49m\u001b[38;5;28;43;01mFalse\u001b[39;49;00m\u001b[43m,\u001b[49m\n\u001b[1;32m    497\u001b[0m \u001b[43m        \u001b[49m\u001b[43mdecode_content\u001b[49m\u001b[38;5;241;43m=\u001b[39;49m\u001b[38;5;28;43;01mFalse\u001b[39;49;00m\u001b[43m,\u001b[49m\n\u001b[1;32m    498\u001b[0m \u001b[43m        \u001b[49m\u001b[43mretries\u001b[49m\u001b[38;5;241;43m=\u001b[39;49m\u001b[38;5;28;43mself\u001b[39;49m\u001b[38;5;241;43m.\u001b[39;49m\u001b[43mmax_retries\u001b[49m\u001b[43m,\u001b[49m\n\u001b[1;32m    499\u001b[0m \u001b[43m        \u001b[49m\u001b[43mtimeout\u001b[49m\u001b[38;5;241;43m=\u001b[39;49m\u001b[43mtimeout\u001b[49m\u001b[43m,\u001b[49m\n\u001b[1;32m    500\u001b[0m \u001b[43m    \u001b[49m\u001b[43m)\u001b[49m\n\u001b[1;32m    502\u001b[0m \u001b[38;5;66;03m# Send the request.\u001b[39;00m\n\u001b[1;32m    503\u001b[0m \u001b[38;5;28;01melse\u001b[39;00m:\n",
      "File \u001b[0;32m/usr/lib/python3/dist-packages/urllib3/connectionpool.py:788\u001b[0m, in \u001b[0;36mHTTPConnectionPool.urlopen\u001b[0;34m(self, method, url, body, headers, retries, redirect, assert_same_host, timeout, pool_timeout, release_conn, chunked, body_pos, **response_kw)\u001b[0m\n\u001b[1;32m    786\u001b[0m     e \u001b[38;5;241m=\u001b[39m ProtocolError(\u001b[38;5;124m\"\u001b[39m\u001b[38;5;124mConnection aborted.\u001b[39m\u001b[38;5;124m\"\u001b[39m, e)\n\u001b[0;32m--> 788\u001b[0m retries \u001b[38;5;241m=\u001b[39m \u001b[43mretries\u001b[49m\u001b[38;5;241;43m.\u001b[39;49m\u001b[43mincrement\u001b[49m\u001b[43m(\u001b[49m\n\u001b[1;32m    789\u001b[0m \u001b[43m    \u001b[49m\u001b[43mmethod\u001b[49m\u001b[43m,\u001b[49m\u001b[43m \u001b[49m\u001b[43murl\u001b[49m\u001b[43m,\u001b[49m\u001b[43m \u001b[49m\u001b[43merror\u001b[49m\u001b[38;5;241;43m=\u001b[39;49m\u001b[43me\u001b[49m\u001b[43m,\u001b[49m\u001b[43m \u001b[49m\u001b[43m_pool\u001b[49m\u001b[38;5;241;43m=\u001b[39;49m\u001b[38;5;28;43mself\u001b[39;49m\u001b[43m,\u001b[49m\u001b[43m \u001b[49m\u001b[43m_stacktrace\u001b[49m\u001b[38;5;241;43m=\u001b[39;49m\u001b[43msys\u001b[49m\u001b[38;5;241;43m.\u001b[39;49m\u001b[43mexc_info\u001b[49m\u001b[43m(\u001b[49m\u001b[43m)\u001b[49m\u001b[43m[\u001b[49m\u001b[38;5;241;43m2\u001b[39;49m\u001b[43m]\u001b[49m\n\u001b[1;32m    790\u001b[0m \u001b[43m\u001b[49m\u001b[43m)\u001b[49m\n\u001b[1;32m    791\u001b[0m retries\u001b[38;5;241m.\u001b[39msleep()\n",
      "File \u001b[0;32m/usr/lib/python3/dist-packages/urllib3/util/retry.py:592\u001b[0m, in \u001b[0;36mRetry.increment\u001b[0;34m(self, method, url, response, error, _pool, _stacktrace)\u001b[0m\n\u001b[1;32m    591\u001b[0m \u001b[38;5;28;01mif\u001b[39;00m new_retry\u001b[38;5;241m.\u001b[39mis_exhausted():\n\u001b[0;32m--> 592\u001b[0m     \u001b[38;5;28;01mraise\u001b[39;00m MaxRetryError(_pool, url, error \u001b[38;5;129;01mor\u001b[39;00m ResponseError(cause))\n\u001b[1;32m    594\u001b[0m log\u001b[38;5;241m.\u001b[39mdebug(\u001b[38;5;124m\"\u001b[39m\u001b[38;5;124mIncremented Retry for (url=\u001b[39m\u001b[38;5;124m'\u001b[39m\u001b[38;5;132;01m%s\u001b[39;00m\u001b[38;5;124m'\u001b[39m\u001b[38;5;124m): \u001b[39m\u001b[38;5;132;01m%r\u001b[39;00m\u001b[38;5;124m\"\u001b[39m, url, new_retry)\n",
      "\u001b[0;31mMaxRetryError\u001b[0m: HTTPSConnectionPool(host='incidentdatabase.ai', port=443): Max retries exceeded with url: /api/graphql (Caused by NewConnectionError('<urllib3.connection.HTTPSConnection object at 0x7f32456fc250>: Failed to establish a new connection: [Errno -5] No address associated with hostname'))",
      "\nDuring handling of the above exception, another exception occurred:\n",
      "\u001b[0;31mConnectionError\u001b[0m                           Traceback (most recent call last)",
      "Cell \u001b[0;32mIn [60], line 1\u001b[0m\n\u001b[0;32m----> 1\u001b[0m \u001b[43mpost_query\u001b[49m\u001b[43m(\u001b[49m\u001b[38;5;124;43m\"\u001b[39;49m\u001b[38;5;124;43mquery \u001b[39;49m\u001b[38;5;124;43m{\u001b[39;49m\u001b[38;5;124;43m incidents \u001b[39;49m\u001b[38;5;124;43m{\u001b[39;49m\u001b[38;5;124;43m title, incident_id } }\u001b[39;49m\u001b[38;5;124;43m\"\u001b[39;49m\u001b[43m)\u001b[49m[\u001b[38;5;124m'\u001b[39m\u001b[38;5;124mincidents\u001b[39m\u001b[38;5;124m'\u001b[39m][\u001b[38;5;241m0\u001b[39m:\u001b[38;5;241m10\u001b[39m]\n",
      "Cell \u001b[0;32mIn [5], line 5\u001b[0m, in \u001b[0;36mpost_query\u001b[0;34m(query, variables)\u001b[0m\n\u001b[1;32m      4\u001b[0m \u001b[38;5;28;01mdef\u001b[39;00m \u001b[38;5;21mpost_query\u001b[39m(query, variables\u001b[38;5;241m=\u001b[39m{}):\n\u001b[0;32m----> 5\u001b[0m     response \u001b[38;5;241m=\u001b[39m \u001b[43mrequests\u001b[49m\u001b[38;5;241;43m.\u001b[39;49m\u001b[43mpost\u001b[49m\u001b[43m(\u001b[49m\n\u001b[1;32m      6\u001b[0m \u001b[43m        \u001b[49m\u001b[38;5;124;43m'\u001b[39;49m\u001b[38;5;124;43mhttps://incidentdatabase.ai/api/graphql\u001b[39;49m\u001b[38;5;124;43m'\u001b[39;49m\u001b[43m,\u001b[49m\n\u001b[1;32m      7\u001b[0m \u001b[43m        \u001b[49m\u001b[43mdata\u001b[49m\u001b[38;5;241;43m=\u001b[39;49m\u001b[43mjson\u001b[49m\u001b[38;5;241;43m.\u001b[39;49m\u001b[43mdumps\u001b[49m\u001b[43m(\u001b[49m\u001b[43m{\u001b[49m\u001b[43m \u001b[49m\u001b[38;5;124;43m\"\u001b[39;49m\u001b[38;5;124;43mquery\u001b[39;49m\u001b[38;5;124;43m\"\u001b[39;49m\u001b[43m:\u001b[49m\u001b[43m \u001b[49m\u001b[43mquery\u001b[49m\u001b[43m,\u001b[49m\u001b[43m \u001b[49m\u001b[38;5;124;43m\"\u001b[39;49m\u001b[38;5;124;43mvariables\u001b[39;49m\u001b[38;5;124;43m\"\u001b[39;49m\u001b[43m:\u001b[49m\u001b[43m \u001b[49m\u001b[43mvariables\u001b[49m\u001b[43m \u001b[49m\u001b[43m}\u001b[49m\u001b[43m)\u001b[49m\u001b[43m,\u001b[49m\n\u001b[1;32m      8\u001b[0m \u001b[43m        \u001b[49m\u001b[43mheaders\u001b[49m\u001b[38;5;241;43m=\u001b[39;49m\u001b[43m{\u001b[49m\u001b[38;5;124;43m\"\u001b[39;49m\u001b[38;5;124;43mcontent-type\u001b[39;49m\u001b[38;5;124;43m\"\u001b[39;49m\u001b[43m:\u001b[49m\u001b[43m \u001b[49m\u001b[38;5;124;43m\"\u001b[39;49m\u001b[38;5;124;43mapplication/json\u001b[39;49m\u001b[38;5;124;43m\"\u001b[39;49m\u001b[43m}\u001b[49m\n\u001b[1;32m      9\u001b[0m \u001b[43m    \u001b[49m\u001b[43m)\u001b[49m\n\u001b[1;32m     10\u001b[0m     response_json \u001b[38;5;241m=\u001b[39m response\u001b[38;5;241m.\u001b[39mjson()\n\u001b[1;32m     11\u001b[0m     \u001b[38;5;28;01mif\u001b[39;00m response_json\u001b[38;5;241m.\u001b[39mget(\u001b[38;5;124m'\u001b[39m\u001b[38;5;124merrors\u001b[39m\u001b[38;5;124m'\u001b[39m):\n",
      "File \u001b[0;32m/usr/lib/python3/dist-packages/requests/api.py:115\u001b[0m, in \u001b[0;36mpost\u001b[0;34m(url, data, json, **kwargs)\u001b[0m\n\u001b[1;32m    103\u001b[0m \u001b[38;5;28;01mdef\u001b[39;00m \u001b[38;5;21mpost\u001b[39m(url, data\u001b[38;5;241m=\u001b[39m\u001b[38;5;28;01mNone\u001b[39;00m, json\u001b[38;5;241m=\u001b[39m\u001b[38;5;28;01mNone\u001b[39;00m, \u001b[38;5;241m*\u001b[39m\u001b[38;5;241m*\u001b[39mkwargs):\n\u001b[1;32m    104\u001b[0m \u001b[38;5;250m    \u001b[39m\u001b[38;5;124mr\u001b[39m\u001b[38;5;124;03m\"\"\"Sends a POST request.\u001b[39;00m\n\u001b[1;32m    105\u001b[0m \n\u001b[1;32m    106\u001b[0m \u001b[38;5;124;03m    :param url: URL for the new :class:`Request` object.\u001b[39;00m\n\u001b[0;32m   (...)\u001b[0m\n\u001b[1;32m    112\u001b[0m \u001b[38;5;124;03m    :rtype: requests.Response\u001b[39;00m\n\u001b[1;32m    113\u001b[0m \u001b[38;5;124;03m    \"\"\"\u001b[39;00m\n\u001b[0;32m--> 115\u001b[0m     \u001b[38;5;28;01mreturn\u001b[39;00m \u001b[43mrequest\u001b[49m\u001b[43m(\u001b[49m\u001b[38;5;124;43m\"\u001b[39;49m\u001b[38;5;124;43mpost\u001b[39;49m\u001b[38;5;124;43m\"\u001b[39;49m\u001b[43m,\u001b[49m\u001b[43m \u001b[49m\u001b[43murl\u001b[49m\u001b[43m,\u001b[49m\u001b[43m \u001b[49m\u001b[43mdata\u001b[49m\u001b[38;5;241;43m=\u001b[39;49m\u001b[43mdata\u001b[49m\u001b[43m,\u001b[49m\u001b[43m \u001b[49m\u001b[43mjson\u001b[49m\u001b[38;5;241;43m=\u001b[39;49m\u001b[43mjson\u001b[49m\u001b[43m,\u001b[49m\u001b[43m \u001b[49m\u001b[38;5;241;43m*\u001b[39;49m\u001b[38;5;241;43m*\u001b[39;49m\u001b[43mkwargs\u001b[49m\u001b[43m)\u001b[49m\n",
      "File \u001b[0;32m/usr/lib/python3/dist-packages/requests/api.py:59\u001b[0m, in \u001b[0;36mrequest\u001b[0;34m(method, url, **kwargs)\u001b[0m\n\u001b[1;32m     55\u001b[0m \u001b[38;5;66;03m# By using the 'with' statement we are sure the session is closed, thus we\u001b[39;00m\n\u001b[1;32m     56\u001b[0m \u001b[38;5;66;03m# avoid leaving sockets open which can trigger a ResourceWarning in some\u001b[39;00m\n\u001b[1;32m     57\u001b[0m \u001b[38;5;66;03m# cases, and look like a memory leak in others.\u001b[39;00m\n\u001b[1;32m     58\u001b[0m \u001b[38;5;28;01mwith\u001b[39;00m sessions\u001b[38;5;241m.\u001b[39mSession() \u001b[38;5;28;01mas\u001b[39;00m session:\n\u001b[0;32m---> 59\u001b[0m     \u001b[38;5;28;01mreturn\u001b[39;00m \u001b[43msession\u001b[49m\u001b[38;5;241;43m.\u001b[39;49m\u001b[43mrequest\u001b[49m\u001b[43m(\u001b[49m\u001b[43mmethod\u001b[49m\u001b[38;5;241;43m=\u001b[39;49m\u001b[43mmethod\u001b[49m\u001b[43m,\u001b[49m\u001b[43m \u001b[49m\u001b[43murl\u001b[49m\u001b[38;5;241;43m=\u001b[39;49m\u001b[43murl\u001b[49m\u001b[43m,\u001b[49m\u001b[43m \u001b[49m\u001b[38;5;241;43m*\u001b[39;49m\u001b[38;5;241;43m*\u001b[39;49m\u001b[43mkwargs\u001b[49m\u001b[43m)\u001b[49m\n",
      "File \u001b[0;32m/usr/lib/python3/dist-packages/requests/sessions.py:587\u001b[0m, in \u001b[0;36mSession.request\u001b[0;34m(self, method, url, params, data, headers, cookies, files, auth, timeout, allow_redirects, proxies, hooks, stream, verify, cert, json)\u001b[0m\n\u001b[1;32m    582\u001b[0m send_kwargs \u001b[38;5;241m=\u001b[39m {\n\u001b[1;32m    583\u001b[0m     \u001b[38;5;124m\"\u001b[39m\u001b[38;5;124mtimeout\u001b[39m\u001b[38;5;124m\"\u001b[39m: timeout,\n\u001b[1;32m    584\u001b[0m     \u001b[38;5;124m\"\u001b[39m\u001b[38;5;124mallow_redirects\u001b[39m\u001b[38;5;124m\"\u001b[39m: allow_redirects,\n\u001b[1;32m    585\u001b[0m }\n\u001b[1;32m    586\u001b[0m send_kwargs\u001b[38;5;241m.\u001b[39mupdate(settings)\n\u001b[0;32m--> 587\u001b[0m resp \u001b[38;5;241m=\u001b[39m \u001b[38;5;28;43mself\u001b[39;49m\u001b[38;5;241;43m.\u001b[39;49m\u001b[43msend\u001b[49m\u001b[43m(\u001b[49m\u001b[43mprep\u001b[49m\u001b[43m,\u001b[49m\u001b[43m \u001b[49m\u001b[38;5;241;43m*\u001b[39;49m\u001b[38;5;241;43m*\u001b[39;49m\u001b[43msend_kwargs\u001b[49m\u001b[43m)\u001b[49m\n\u001b[1;32m    589\u001b[0m \u001b[38;5;28;01mreturn\u001b[39;00m resp\n",
      "File \u001b[0;32m/usr/lib/python3/dist-packages/requests/sessions.py:701\u001b[0m, in \u001b[0;36mSession.send\u001b[0;34m(self, request, **kwargs)\u001b[0m\n\u001b[1;32m    698\u001b[0m start \u001b[38;5;241m=\u001b[39m preferred_clock()\n\u001b[1;32m    700\u001b[0m \u001b[38;5;66;03m# Send the request\u001b[39;00m\n\u001b[0;32m--> 701\u001b[0m r \u001b[38;5;241m=\u001b[39m \u001b[43madapter\u001b[49m\u001b[38;5;241;43m.\u001b[39;49m\u001b[43msend\u001b[49m\u001b[43m(\u001b[49m\u001b[43mrequest\u001b[49m\u001b[43m,\u001b[49m\u001b[43m \u001b[49m\u001b[38;5;241;43m*\u001b[39;49m\u001b[38;5;241;43m*\u001b[39;49m\u001b[43mkwargs\u001b[49m\u001b[43m)\u001b[49m\n\u001b[1;32m    703\u001b[0m \u001b[38;5;66;03m# Total elapsed time of the request (approximately)\u001b[39;00m\n\u001b[1;32m    704\u001b[0m elapsed \u001b[38;5;241m=\u001b[39m preferred_clock() \u001b[38;5;241m-\u001b[39m start\n",
      "File \u001b[0;32m/usr/lib/python3/dist-packages/requests/adapters.py:565\u001b[0m, in \u001b[0;36mHTTPAdapter.send\u001b[0;34m(self, request, stream, timeout, verify, cert, proxies)\u001b[0m\n\u001b[1;32m    561\u001b[0m     \u001b[38;5;28;01mif\u001b[39;00m \u001b[38;5;28misinstance\u001b[39m(e\u001b[38;5;241m.\u001b[39mreason, _SSLError):\n\u001b[1;32m    562\u001b[0m         \u001b[38;5;66;03m# This branch is for urllib3 v1.22 and later.\u001b[39;00m\n\u001b[1;32m    563\u001b[0m         \u001b[38;5;28;01mraise\u001b[39;00m SSLError(e, request\u001b[38;5;241m=\u001b[39mrequest)\n\u001b[0;32m--> 565\u001b[0m     \u001b[38;5;28;01mraise\u001b[39;00m \u001b[38;5;167;01mConnectionError\u001b[39;00m(e, request\u001b[38;5;241m=\u001b[39mrequest)\n\u001b[1;32m    567\u001b[0m \u001b[38;5;28;01mexcept\u001b[39;00m ClosedPoolError \u001b[38;5;28;01mas\u001b[39;00m e:\n\u001b[1;32m    568\u001b[0m     \u001b[38;5;28;01mraise\u001b[39;00m \u001b[38;5;167;01mConnectionError\u001b[39;00m(e, request\u001b[38;5;241m=\u001b[39mrequest)\n",
      "\u001b[0;31mConnectionError\u001b[0m: HTTPSConnectionPool(host='incidentdatabase.ai', port=443): Max retries exceeded with url: /api/graphql (Caused by NewConnectionError('<urllib3.connection.HTTPSConnection object at 0x7f32456fc250>: Failed to establish a new connection: [Errno -5] No address associated with hostname'))"
     ]
    }
   ],
   "source": [
    "post_query(\"query { incidents { title, incident_id } }\")['incidents'][0:10]"
   ]
  },
  {
   "cell_type": "markdown",
   "id": "2c1dbbc1",
   "metadata": {},
   "source": [
    "## Pagination and Using Variables"
   ]
  },
  {
   "cell_type": "markdown",
   "id": "23fd71f3",
   "metadata": {},
   "source": [
    "So far we've been requesting data for every incident in the database.\n",
    "This will become infeasable as we request more data per field.\n",
    "To handle this, we use pagination."
   ]
  },
  {
   "cell_type": "code",
   "execution_count": 66,
   "id": "6e35aea4",
   "metadata": {},
   "outputs": [
    {
     "data": {
      "text/plain": [
       "{'incidents': [{'title': 'Las Vegas Self-Driving Bus Involved in Accident',\n",
       "   'date': '2017-11-08',\n",
       "   'description': 'A self-driving public shuttle by Keolis North America and Navya was involved in a collision with a human-driven delivery truck in Las Vegas, Nevada on its first day of service.'},\n",
       "  {'title': 'Uber AV Killed Pedestrian in Arizona',\n",
       "   'date': '2018-03-18',\n",
       "   'description': 'An Uber autonomous vehicle (AV) in autonomous mode struck and killed a pedestrian in Tempe, Arizona.'},\n",
       "  {'title': 'Google’s YouTube Kids App Presents Inappropriate Content',\n",
       "   'date': '2015-05-19',\n",
       "   'description': 'YouTube’s content filtering and recommendation algorithms exposed children to disturbing and inappropriate videos.'},\n",
       "  {'title': 'Gender Biases of Google Image Search',\n",
       "   'date': '2015-04-04',\n",
       "   'description': 'Google Image returns results that under-represent women in leadership roles, notably with the first photo of a female \"CEO\" being a Barbie doll after 11 rows of male CEOs.'},\n",
       "  {'title': 'Common Biases of Vector Embeddings',\n",
       "   'date': '2016-07-21',\n",
       "   'description': 'Researchers from Boston University and Microsoft Research, New England demonstrated gender bias in the most common techniques used to embed words for natural language processing (NLP).'}]}"
      ]
     },
     "execution_count": 66,
     "metadata": {},
     "output_type": "execute_result"
    }
   ],
   "source": [
    "post_query(\"\"\"\n",
    "    query {\n",
    "        incidents(pagination: {limit: 5}) {\n",
    "            title\n",
    "            date\n",
    "            description\n",
    "        }\n",
    "    }\n",
    "\"\"\")"
   ]
  },
  {
   "cell_type": "code",
   "execution_count": 48,
   "id": "4567a77a",
   "metadata": {},
   "outputs": [],
   "source": [
    "page = -1"
   ]
  },
  {
   "cell_type": "code",
   "execution_count": 49,
   "id": "f01b7e14",
   "metadata": {},
   "outputs": [
    {
     "data": {
      "text/plain": [
       "{'incidents': [{'title': 'Las Vegas Self-Driving Bus Involved in Accident',\n",
       "   'date': '2017-11-08',\n",
       "   'description': 'A self-driving public shuttle by Keolis North America and Navya was involved in a collision with a human-driven delivery truck in Las Vegas, Nevada on its first day of service.'},\n",
       "  {'title': 'Uber AV Killed Pedestrian in Arizona',\n",
       "   'date': '2018-03-18',\n",
       "   'description': 'An Uber autonomous vehicle (AV) in autonomous mode struck and killed a pedestrian in Tempe, Arizona.'},\n",
       "  {'title': 'Google’s YouTube Kids App Presents Inappropriate Content',\n",
       "   'date': '2015-05-19',\n",
       "   'description': 'YouTube’s content filtering and recommendation algorithms exposed children to disturbing and inappropriate videos.'},\n",
       "  {'title': 'Gender Biases of Google Image Search',\n",
       "   'date': '2015-04-04',\n",
       "   'description': 'Google Image returns results that under-represent women in leadership roles, notably with the first photo of a female \"CEO\" being a Barbie doll after 11 rows of male CEOs.'},\n",
       "  {'title': 'Common Biases of Vector Embeddings',\n",
       "   'date': '2016-07-21',\n",
       "   'description': 'Researchers from Boston University and Microsoft Research, New England demonstrated gender bias in the most common techniques used to embed words for natural language processing (NLP).'}]}"
      ]
     },
     "execution_count": 49,
     "metadata": {},
     "output_type": "execute_result"
    }
   ],
   "source": [
    "page += 1\n",
    "post_query(\n",
    "    \"\"\"\n",
    "    query ($pagination: PaginationType) {\n",
    "        incidents(pagination: $pagination) {\n",
    "            title\n",
    "            date\n",
    "            description\n",
    "        }\n",
    "    }\n",
    "    \"\"\",\n",
    "    variables={\"pagination\": { \"limit\": 5, \"skip\": 5 * page }}\n",
    ")"
   ]
  },
  {
   "cell_type": "markdown",
   "id": "1b48571c",
   "metadata": {},
   "source": [
    "Every time you run the above cell, it will produce the next \"page\" of 5 incidents."
   ]
  },
  {
   "cell_type": "markdown",
   "id": "0bf556cf",
   "metadata": {},
   "source": [
    "## Incidents and Reports\n",
    "\n",
    "Incidents in the AI Incident Database have one or more associated reports documenting them.\n",
    "These can be queried within an incident query."
   ]
  },
  {
   "cell_type": "code",
   "execution_count": 84,
   "id": "84ad6b29",
   "metadata": {},
   "outputs": [
    {
     "data": {
      "text/plain": [
       "{'incidents': [{'title': 'Las Vegas Self-Driving Bus Involved in Accident',\n",
       "   'date': '2017-11-08',\n",
       "   'description': 'A self-driving public shuttle by Keolis North America and Navya was involved in a collision with a human-driven delivery truck in Las Vegas, Nevada on its first day of service.',\n",
       "   'reports': [{'title': 'Self-driving shuttle bus in crash on first day',\n",
       "     'url': 'https://www.bbc.com/news/technology-41923814'},\n",
       "    {'title': 'The real lesson of that self-driving shuttle’s first-day accident',\n",
       "     'url': 'https://arstechnica.com/cars/2017/11/the-real-lesson-of-that-self-driving-shuttles-first-day-accident/'},\n",
       "    {'title': 'U.S. safety board to probe self-driving shuttle crash in Las Vegas',\n",
       "     'url': 'https://www.reuters.com/article/us-autos-selfdriving/u-s-safety-board-to-probe-self-driving-shuttle-crash-in-las-vegas-idUSKBN1DA2K1'},\n",
       "    {'title': 'Self-driving bus involved in accident on its first day',\n",
       "     'url': 'https://money.cnn.com/2017/11/09/technology/self-driving-bus-accident-las-vegas/index.html'},\n",
       "    {'title': 'Self-Driving Bus Crashed in Vegas in Its First Hour: Who Was At Fault?',\n",
       "     'url': 'https://www.inverse.com/article/38279-self-driving-bus-crash'},\n",
       "    {'title': 'A self-driving shuttle in Las Vegas got into an accident on its first day of service',\n",
       "     'url': 'https://www.theverge.com/2017/11/8/16626224/las-vegas-self-driving-shuttle-crash-accident-first-day'},\n",
       "    {'title': 'Digital Trends was onboard the ill-fated Las Vegas self-driving shuttle',\n",
       "     'url': 'https://www.digitaltrends.com/cars/self-driving-bus-crash-vegas-account/'},\n",
       "    {'title': \"Keolis' self-driving shuttle launches in Las Vegas, crashes after two hours\",\n",
       "     'url': 'https://www.intelligenttransport.com/transport-news/29928/aaa-keolis-launch-first-public-self-driving-shuttle-downtown-las-vegas/'},\n",
       "    {'title': 'US safety board to probe self-driving shuttle crash in Las Vegas',\n",
       "     'url': 'https://tribune.com.pk/story/1555671/8-us-safety-board-probe-self-driving-shuttle-crash-las-vegas/'},\n",
       "    {'title': 'Self-Driving Bus Crashes Two Hours After Being Put on the Road',\n",
       "     'url': 'https://www.martinmontilino.com/self-driving-bus-crashes-two-hours-after-being-put-on-the-road/'},\n",
       "    {'title': 'Truck Driver Gets the Blame in Driverless Shuttle Bus Crash',\n",
       "     'url': 'https://www.truckinginfo.com/160097/truck-driver-gets-the-blame-in-driverless-shuttle-bus-crash'},\n",
       "    {'title': 'Self-Driving-Shuttle Era Begins with a First-Day Crash in Vegas',\n",
       "     'url': 'https://www.caranddriver.com/news/a15339580/shuttle-down-self-driving-shuttle-era-begins-with-a-first-day-crash-in-las-vegas/'},\n",
       "    {'title': 'Self-driving shuttle bus crashes on first day of testing',\n",
       "     'url': 'https://uk.motor1.com/news/186160/autonomous-shuttle-bus-crash-first-day/'},\n",
       "    {'title': 'Self-driving bus involved in crash less than two hours after Las Vegas launch',\n",
       "     'url': 'http://kathmandupost.ekantipur.com/printedition/news/2017-11-11/self-driving-bus-involved-in-crash-less-than-two-hours-after-las-vegas-launch.html'},\n",
       "    {'title': \"Las Vegas' self-driving bus crashes in first hour of service\",\n",
       "     'url': 'https://www.engadget.com/2017/11/09/las-vegas-self-driving-shuttle-bus-crash/'},\n",
       "    {'title': \"Las Vegas Won't Stop Driverless Shuttle Program after Fatal Accident in Arizona\",\n",
       "     'url': 'http://www.govtech.com/transportation/Las-Vegas-Wont-Stop-Driverless-Shuttle-Program-after-Fatal-Accident-in-Arizona.html'},\n",
       "    {'title': \"Las Vegas' Driverless Shuttle Is Back In Service But The Feds Want To Examine What Happened\",\n",
       "     'url': 'https://jalopnik.com/las-vegas-driverless-shuttle-is-back-in-service-but-the-1820393012'},\n",
       "    {'title': 'Driverless bus in crash after two hours on road in Las Vegas',\n",
       "     'url': 'https://news.sky.com/story/driverless-bus-in-crash-after-two-hours-on-road-in-las-vegas-11119198'},\n",
       "    {'title': 'Driverless car involved in crash in first hour of first day',\n",
       "     'url': 'https://www.telegraph.co.uk/technology/2017/11/09/driverless-car-involved-crash-first-hour-first-day/'},\n",
       "    {'title': \"How does downtown's autonomous bus work?\",\n",
       "     'url': 'https://lasvegassun.com/news/2018/apr/05/how-does-downtowns-autonomous-bus-work/'},\n",
       "    {'title': 'Self-driving bus gets into accident on its first day in Las Vegas, human driver blamed for collision',\n",
       "     'url': 'https://www.nydailynews.com/news/national/self-driving-bus-accident-day-las-vegas-article-1.3621441'},\n",
       "    {'title': 'Self-Driving Bus in Las Vegas Crashes Just 2 Hours After Launch',\n",
       "     'url': 'https://www.archdaily.com/883379/self-driving-bus-in-las-vegas-crashes-just-2-hours-after-launch'},\n",
       "    {'title': 'Las Vegas self-driving bus crashed into on its first day',\n",
       "     'url': 'https://www.gearbrain.com/las-vegas-driverless-bus-crash-2508016007.html'},\n",
       "    {'title': 'Self-driving bus involved in crash less than two hours after Las Vegas launch',\n",
       "     'url': 'https://www.theguardian.com/technology/2017/nov/09/self-driving-bus-crashes-two-hours-after-las-vegas-launch-truck-autonomous-vehicle'}]}]}"
      ]
     },
     "execution_count": 84,
     "metadata": {},
     "output_type": "execute_result"
    }
   ],
   "source": [
    "post_query(\n",
    "    \"\"\"\n",
    "    query {\n",
    "        incidents(pagination: { limit: 1 }) {\n",
    "            title\n",
    "            date\n",
    "            description\n",
    "            reports {\n",
    "                title\n",
    "                url\n",
    "            }\n",
    "        }\n",
    "    }\n",
    "    \"\"\"\n",
    ")"
   ]
  },
  {
   "cell_type": "markdown",
   "id": "e483ad48",
   "metadata": {},
   "source": [
    "Reports are a top-level collection, so they can also be queried independent of incidents, with pagination."
   ]
  },
  {
   "cell_type": "code",
   "execution_count": 88,
   "id": "b96ca286",
   "metadata": {},
   "outputs": [
    {
     "data": {
      "text/plain": [
       "{'reports': [{'title': 'Google’s YouTube Kids App Criticized for ‘Inappropriate Content’',\n",
       "   'url': 'https://blogs.wsj.com/digits/2015/05/19/googles-youtube-kids-app-criticized-for-inappropriate-content/'},\n",
       "  {'title': 'YouTube Kids, Criticized for Content, Introduces New Parental Controls',\n",
       "   'url': 'https://www.nytimes.com/2018/04/25/business/media/youtube-kids-parental-controls.html'},\n",
       "  {'title': \"Children's YouTube is still churning out blood, suicide and cannibalism\",\n",
       "   'url': 'https://www.wired.co.uk/article/youtube-for-kids-videos-problems-algorithm-recommend'},\n",
       "  {'title': 'YouTube Kids app is STILL showing disturbing videos',\n",
       "   'url': 'https://www.dailymail.co.uk/sciencetech/article-5358365/YouTube-Kids-app-showing-disturbing-videos.html'},\n",
       "  {'title': 'YouTube suggested conspiracy videos to children using its Kids app',\n",
       "   'url': 'https://www.businessinsider.com/youtube-suggested-conspiracy-videos-to-children-using-its-kids-app-2018-3'}]}"
      ]
     },
     "execution_count": 88,
     "metadata": {},
     "output_type": "execute_result"
    }
   ],
   "source": [
    "post_query(\n",
    "    \"\"\"\n",
    "    query {\n",
    "        reports(pagination: { limit: 5 }) {\n",
    "            title\n",
    "            url\n",
    "        }\n",
    "    }\n",
    "    \"\"\"\n",
    ")"
   ]
  },
  {
   "cell_type": "markdown",
   "id": "f5830326",
   "metadata": {},
   "source": [
    "## Filters"
   ]
  },
  {
   "cell_type": "code",
   "execution_count": 90,
   "id": "9515104c",
   "metadata": {},
   "outputs": [
    {
     "data": {
      "text/plain": [
       "{'reports': [{'title': 'Dealership AI Chatbot Sells Car for $1',\n",
       "   'url': 'https://www.colombiaone.com/2024/01/08/gm-dealership-chatbot-ai/',\n",
       "   'date_published': '2024-01-08T00:00:00.000Z'},\n",
       "  {'title': 'Lazy use of AI leads to Amazon products called “I cannot fulfill that request”',\n",
       "   'url': 'https://arstechnica.com/ai/2024/01/lazy-use-of-ai-leads-to-amazon-products-called-i-cannot-fulfill-that-request/',\n",
       "   'date_published': '2024-01-12T00:00:00.000Z'},\n",
       "  {'title': 'FTC Announces Groundbreaking Action Against Rite Aid for Unfair Use of AI',\n",
       "   'url': 'https://www.wilmerhale.com/en/insights/blogs/wilmerhale-privacy-and-cybersecurity-law/20240111-ftc-announces-groundbreaking-action-against-rite-aid-for-unfair-use-of-ai',\n",
       "   'date_published': '2024-01-11T00:00:00.000Z'},\n",
       "  {'title': 'Rite Aid Settles FTC Allegations Regarding Use of Facial Recognition Technology',\n",
       "   'url': 'https://www.insideprivacy.com/artificial-intelligence/rite-aid-settles-ftc-allegations-regarding-use-of-facial-recognition-technology/',\n",
       "   'date_published': '2024-01-05T00:00:00.000Z'},\n",
       "  {'title': 'AI models frequently ‘hallucinate’ on legal queries, study finds',\n",
       "   'url': 'https://thehill.com/policy/technology/4403776-ai-models-frequently-hallucinate-on-legal-queries-study-finds/',\n",
       "   'date_published': '2024-01-11T00:00:00.000Z'}]}"
      ]
     },
     "execution_count": 90,
     "metadata": {},
     "output_type": "execute_result"
    }
   ],
   "source": [
    "post_query(\n",
    "    \"\"\"\n",
    "    query {\n",
    "        reports(\n",
    "            pagination: { limit: 5 }, \n",
    "            filter: { date_published: { GTE: \"2024-01-01T00:00:00+00:00\" }}\n",
    "        ) {\n",
    "            title\n",
    "            url\n",
    "            date_published\n",
    "        }\n",
    "    }\n",
    "    \"\"\"\n",
    ")"
   ]
  },
  {
   "cell_type": "code",
   "execution_count": 104,
   "id": "c484dfa8",
   "metadata": {},
   "outputs": [
    {
     "data": {
      "text/plain": [
       "{'reports': [{'title': 'Temporary policy: ChatGPT is banned',\n",
       "   'url': 'https://meta.stackoverflow.com/questions/421831/temporary-policy-chatgpt-is-banned',\n",
       "   'date_published': '2022-12-05T00:00:00.000Z'},\n",
       "  {'title': 'ChatGPT proves that AI still has a racism problem',\n",
       "   'url': 'https://www.newstatesman.com/quickfire/2022/12/chatgpt-shows-ai-racism-problem',\n",
       "   'date_published': '2022-12-10T00:00:00.000Z'},\n",
       "  {'title': 'ChatGPT bot tricked into giving bomb-making instructions, say developers',\n",
       "   'url': 'https://www.thetimes.co.uk/article/chatgpt-bot-tricked-into-giving-bomb-making-instructions-say-developers-rvktrxqb5',\n",
       "   'date_published': '2022-12-17T00:00:00.000Z'},\n",
       "  {'title': \"Testing Ways to Bypass ChatGPT's Safety Features\",\n",
       "   'url': 'https://www.lesswrong.com/posts/7fYxxtZqjuYXhBA2D/testing-ways-to-bypass-chatgpt-s-safety-features',\n",
       "   'date_published': '2022-12-06T00:00:00.000Z'},\n",
       "  {'title': 'ChatGPT is being used to create malicious emails and code',\n",
       "   'url': 'https://www.techradar.com/news/chatgpt-is-being-used-to-create-malicious-emails-and-code',\n",
       "   'date_published': '2022-12-20T00:00:00.000Z'}]}"
      ]
     },
     "execution_count": 104,
     "metadata": {},
     "output_type": "execute_result"
    }
   ],
   "source": [
    "post_query(\n",
    "    \"\"\"\n",
    "    query {\n",
    "        reports(\n",
    "            pagination: { limit: 5 }, \n",
    "            filter: { \n",
    "                date_published: {\n",
    "                    GTE: \"2022-01-01T00:00:00+00:00\",\n",
    "                    LTE: \"2023-01-01T00:00:00+00:00\"\n",
    "                },\n",
    "                title: { REGEX: \"ChatGPT\" }\n",
    "            }\n",
    "        ) {\n",
    "            title\n",
    "            url\n",
    "            date_published\n",
    "        }\n",
    "    }\n",
    "    \"\"\"\n",
    ")"
   ]
  },
  {
   "cell_type": "markdown",
   "id": "07f07fec",
   "metadata": {},
   "source": [
    "## Comparing count of articles with given keywords over time"
   ]
  },
  {
   "cell_type": "code",
   "execution_count": 31,
   "id": "e2c99a7c",
   "metadata": {},
   "outputs": [],
   "source": [
    "keyword_in_date_range_query = \"\"\"\n",
    "query ($keyword: String, $published_gte: DateTime, $published_lt: DateTime) {\n",
    "  reports(\n",
    "    filter: {\n",
    "      plain_text: { REGEX: $keyword },\n",
    "      date_published: {\n",
    "        GTE: $published_gte,\n",
    "        LT: $published_lt\n",
    "      }\n",
    "    }\n",
    "  ) {\n",
    "    title\n",
    "  }\n",
    "}\n",
    "\"\"\""
   ]
  },
  {
   "cell_type": "code",
   "execution_count": 47,
   "id": "1892f87a",
   "metadata": {},
   "outputs": [
    {
     "name": "stdout",
     "output_type": "stream",
     "text": [
      "1126\n"
     ]
    }
   ],
   "source": [
    "ai_2020_2024 = post_query(\n",
    "    keyword_in_date_range_query, \n",
    "    variables={\n",
    "        'keyword': \"\\\\W(?i)ai\\\\W\",\n",
    "        'published_gte': \"2020-01-01T00:00:00+00:00\",\n",
    "        'published_lt': \"2024-01-01T00:00:00+00:00\",\n",
    "    }\n",
    ")\n",
    "print(len(ai_2020_2024['reports']))"
   ]
  },
  {
   "cell_type": "code",
   "execution_count": 107,
   "id": "94d20c9e",
   "metadata": {},
   "outputs": [
    {
     "name": "stdout",
     "output_type": "stream",
     "text": [
      "2008-2012\n",
      "   artificial intelligence 0\n",
      "   machine learning 0\n",
      "\n",
      "2012-2016\n",
      "   artificial intelligence 15\n",
      "   machine learning 11\n",
      "\n",
      "2016-2020\n",
      "   artificial intelligence 226\n",
      "   machine learning 150\n",
      "\n",
      "2020-2024\n",
      "   artificial intelligence 701\n",
      "   machine learning 167\n",
      "\n"
     ]
    }
   ],
   "source": [
    "for year in range(2008, 2024, 4):\n",
    "    lower = str(year)\n",
    "    upper = str(year + 4)\n",
    "    print(lower + \"-\" + upper)\n",
    "    for keyword in \"artificial intelligence\", \"machine learning\":\n",
    "        data = post_query(\n",
    "            keyword_in_date_range_query, \n",
    "            variables={\n",
    "                'keyword': \"\\\\W(?i)\" + keyword +\"\\\\W\",\n",
    "                'published_gte': lower + \"-01-01T00:00:00+00:00\",\n",
    "                'published_lt': upper + \"-01-01T00:00:00+00:00\",\n",
    "            }\n",
    "        )\n",
    "        print('  ', keyword, len(data['reports']))\n",
    "    print() "
   ]
  },
  {
   "cell_type": "code",
   "execution_count": null,
   "id": "01eda08a",
   "metadata": {},
   "outputs": [],
   "source": []
  }
 ],
 "metadata": {
  "kernelspec": {
   "display_name": "Python 3 (ipykernel)",
   "language": "python",
   "name": "python3"
  },
  "language_info": {
   "codemirror_mode": {
    "name": "ipython",
    "version": 3
   },
   "file_extension": ".py",
   "mimetype": "text/x-python",
   "name": "python",
   "nbconvert_exporter": "python",
   "pygments_lexer": "ipython3",
   "version": "3.11.2"
  }
 },
 "nbformat": 4,
 "nbformat_minor": 5
}
