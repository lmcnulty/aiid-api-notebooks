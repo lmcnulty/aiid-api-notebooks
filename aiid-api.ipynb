{
 "cells": [
  {
   "cell_type": "markdown",
   "id": "761a1c76",
   "metadata": {},
   "source": [
    "## Making requests\n",
    "\n",
    "\n",
    "Let's start with a minimal request.\n",
    "It queries the title of every incident in the database."
   ]
  },
  {
   "cell_type": "code",
   "execution_count": 1,
   "id": "ab51ba1d",
   "metadata": {},
   "outputs": [
    {
     "data": {
      "text/plain": [
       "<Response [200]>"
      ]
     },
     "execution_count": 1,
     "metadata": {},
     "output_type": "execute_result"
    }
   ],
   "source": [
    "import requests\n",
    "minimal_example_response = requests.post(\n",
    "    'https://incidentdatabase.ai/api/graphql',\n",
    "    data='{\"query\": \"query { incidents { title } }\"}',\n",
    "    headers={\"content-type\": \"application/json\"}\n",
    ")\n",
    "minimal_example_response"
   ]
  },
  {
   "cell_type": "code",
   "execution_count": 2,
   "id": "2c5f3c5b",
   "metadata": {},
   "outputs": [
    {
     "data": {
      "text/plain": [
       "[{'title': 'Las Vegas Self-Driving Bus Involved in Accident'},\n",
       " {'title': 'Uber AV Killed Pedestrian in Arizona'},\n",
       " {'title': 'Google’s YouTube Kids App Presents Inappropriate Content'},\n",
       " {'title': 'Gender Biases of Google Image Search'},\n",
       " {'title': 'Common Biases of Vector Embeddings'}]"
      ]
     },
     "execution_count": 2,
     "metadata": {},
     "output_type": "execute_result"
    }
   ],
   "source": [
    "minimal_example_response.json()['data']['incidents'][0:5]"
   ]
  },
  {
   "cell_type": "markdown",
   "id": "8ab475cf",
   "metadata": {},
   "source": [
    "We can put some of the scaffolding in a function."
   ]
  },
  {
   "cell_type": "code",
   "execution_count": 3,
   "id": "0fcf4a13",
   "metadata": {},
   "outputs": [],
   "source": [
    "import requests\n",
    "import json\n",
    "\n",
    "def post_query(query, variables={}):\n",
    "    response = requests.post(\n",
    "        'https://incidentdatabase.ai/api/graphql',\n",
    "        data=json.dumps({ \"query\": query, \"variables\": variables }),\n",
    "        headers={\"content-type\": \"application/json\"}\n",
    "    )\n",
    "    response_json = response.json()\n",
    "    if response_json.get('errors'):\n",
    "        raise Exception(response_json['errors'])\n",
    "    return response_json['data']"
   ]
  },
  {
   "cell_type": "code",
   "execution_count": 4,
   "id": "55f143bf",
   "metadata": {},
   "outputs": [
    {
     "data": {
      "text/plain": [
       "[{'title': 'Las Vegas Self-Driving Bus Involved in Accident',\n",
       "  'incident_id': 23},\n",
       " {'title': 'Uber AV Killed Pedestrian in Arizona', 'incident_id': 4},\n",
       " {'title': 'Google’s YouTube Kids App Presents Inappropriate Content',\n",
       "  'incident_id': 1},\n",
       " {'title': 'Gender Biases of Google Image Search', 'incident_id': 18},\n",
       " {'title': 'Common Biases of Vector Embeddings', 'incident_id': 12}]"
      ]
     },
     "execution_count": 4,
     "metadata": {},
     "output_type": "execute_result"
    }
   ],
   "source": [
    "post_query(\"query { incidents { title, incident_id } }\")['incidents'][0:5]"
   ]
  },
  {
   "cell_type": "markdown",
   "id": "2c1dbbc1",
   "metadata": {},
   "source": [
    "## Pagination and Using Variables"
   ]
  },
  {
   "cell_type": "markdown",
   "id": "23fd71f3",
   "metadata": {},
   "source": [
    "So far we've been requesting data for every incident in the database.\n",
    "This will become infeasable as we request more data per field.\n",
    "To handle this, we use pagination."
   ]
  },
  {
   "cell_type": "code",
   "execution_count": 5,
   "id": "6e35aea4",
   "metadata": {},
   "outputs": [
    {
     "data": {
      "text/plain": [
       "{'incidents': [{'title': 'Las Vegas Self-Driving Bus Involved in Accident',\n",
       "   'date': '2017-11-08',\n",
       "   'description': 'A self-driving public shuttle by Keolis North America and Navya was involved in a collision with a human-driven delivery truck in Las Vegas, Nevada on its first day of service.'},\n",
       "  {'title': 'Uber AV Killed Pedestrian in Arizona',\n",
       "   'date': '2018-03-18',\n",
       "   'description': 'An Uber autonomous vehicle (AV) in autonomous mode struck and killed a pedestrian in Tempe, Arizona.'},\n",
       "  {'title': 'Google’s YouTube Kids App Presents Inappropriate Content',\n",
       "   'date': '2015-05-19',\n",
       "   'description': 'YouTube’s content filtering and recommendation algorithms exposed children to disturbing and inappropriate videos.'}]}"
      ]
     },
     "execution_count": 5,
     "metadata": {},
     "output_type": "execute_result"
    }
   ],
   "source": [
    "post_query(\"\"\"\n",
    "    query {\n",
    "        incidents(pagination: {limit: 3}) {\n",
    "            title\n",
    "            date\n",
    "            description\n",
    "        }\n",
    "    }\n",
    "\"\"\")"
   ]
  },
  {
   "cell_type": "code",
   "execution_count": 6,
   "id": "4567a77a",
   "metadata": {},
   "outputs": [],
   "source": [
    "page = -1"
   ]
  },
  {
   "cell_type": "code",
   "execution_count": 7,
   "id": "f01b7e14",
   "metadata": {},
   "outputs": [
    {
     "data": {
      "text/plain": [
       "{'incidents': [{'title': 'Las Vegas Self-Driving Bus Involved in Accident',\n",
       "   'date': '2017-11-08',\n",
       "   'description': 'A self-driving public shuttle by Keolis North America and Navya was involved in a collision with a human-driven delivery truck in Las Vegas, Nevada on its first day of service.'},\n",
       "  {'title': 'Uber AV Killed Pedestrian in Arizona',\n",
       "   'date': '2018-03-18',\n",
       "   'description': 'An Uber autonomous vehicle (AV) in autonomous mode struck and killed a pedestrian in Tempe, Arizona.'},\n",
       "  {'title': 'Google’s YouTube Kids App Presents Inappropriate Content',\n",
       "   'date': '2015-05-19',\n",
       "   'description': 'YouTube’s content filtering and recommendation algorithms exposed children to disturbing and inappropriate videos.'}]}"
      ]
     },
     "execution_count": 7,
     "metadata": {},
     "output_type": "execute_result"
    }
   ],
   "source": [
    "page += 1\n",
    "post_query(\n",
    "    \"\"\"\n",
    "    query ($pagination: PaginationType) {\n",
    "        incidents(pagination: $pagination) {\n",
    "            title\n",
    "            date\n",
    "            description\n",
    "        }\n",
    "    }\n",
    "    \"\"\",\n",
    "    variables={\"pagination\": { \"limit\": 3, \"skip\": 3 * page }}\n",
    ")"
   ]
  },
  {
   "cell_type": "markdown",
   "id": "1b48571c",
   "metadata": {},
   "source": [
    "Every time you run the above cell, it will produce the next \"page\" of 3 incidents."
   ]
  },
  {
   "cell_type": "markdown",
   "id": "0bf556cf",
   "metadata": {},
   "source": [
    "## Incidents and Reports\n",
    "\n",
    "Incidents in the AI Incident Database have one or more associated reports documenting them.\n",
    "These can be queried within an incident query."
   ]
  },
  {
   "cell_type": "code",
   "execution_count": 8,
   "id": "84ad6b29",
   "metadata": {},
   "outputs": [
    {
     "name": "stdout",
     "output_type": "stream",
     "text": [
      "[{'title': 'Self-driving shuttle bus in crash on first day', 'url': 'https://www.bbc.com/news/technology-41923814'}, {'title': 'The real lesson of that self-driving shuttle’s first-day accident', 'url': 'https://arstechnica.com/cars/2017/11/the-real-lesson-of-that-self-driving-shuttles-first-day-accident/'}, {'title': 'U.S. safety board to probe self-driving shuttle crash in Las Vegas', 'url': 'https://www.reuters.com/article/us-autos-selfdriving/u-s-safety-board-to-probe-self-driving-shuttle-crash-in-las-vegas-idUSKBN1DA2K1'}]\n"
     ]
    }
   ],
   "source": [
    "data = post_query(\n",
    "    \"\"\"\n",
    "    query {\n",
    "        incidents(pagination: { limit: 1 }) {\n",
    "            title\n",
    "            date\n",
    "            description\n",
    "            reports {\n",
    "                title\n",
    "                url\n",
    "            }\n",
    "        }\n",
    "    }\n",
    "    \"\"\"\n",
    ")\n",
    "print(data['incidents'][0]['reports'][0:3])"
   ]
  },
  {
   "cell_type": "markdown",
   "id": "e483ad48",
   "metadata": {},
   "source": [
    "Reports are a top-level collection, so they can also be queried independent of incidents, with pagination."
   ]
  },
  {
   "cell_type": "code",
   "execution_count": 9,
   "id": "b96ca286",
   "metadata": {},
   "outputs": [
    {
     "data": {
      "text/plain": [
       "{'reports': [{'title': 'Google’s YouTube Kids App Criticized for ‘Inappropriate Content’',\n",
       "   'url': 'https://blogs.wsj.com/digits/2015/05/19/googles-youtube-kids-app-criticized-for-inappropriate-content/'},\n",
       "  {'title': 'YouTube Kids, Criticized for Content, Introduces New Parental Controls',\n",
       "   'url': 'https://www.nytimes.com/2018/04/25/business/media/youtube-kids-parental-controls.html'},\n",
       "  {'title': \"Children's YouTube is still churning out blood, suicide and cannibalism\",\n",
       "   'url': 'https://www.wired.co.uk/article/youtube-for-kids-videos-problems-algorithm-recommend'},\n",
       "  {'title': 'YouTube Kids app is STILL showing disturbing videos',\n",
       "   'url': 'https://www.dailymail.co.uk/sciencetech/article-5358365/YouTube-Kids-app-showing-disturbing-videos.html'},\n",
       "  {'title': 'YouTube suggested conspiracy videos to children using its Kids app',\n",
       "   'url': 'https://www.businessinsider.com/youtube-suggested-conspiracy-videos-to-children-using-its-kids-app-2018-3'}]}"
      ]
     },
     "execution_count": 9,
     "metadata": {},
     "output_type": "execute_result"
    }
   ],
   "source": [
    "post_query(\n",
    "    \"\"\"\n",
    "    query {\n",
    "        reports(pagination: { limit: 5 }) {\n",
    "            title\n",
    "            url\n",
    "        }\n",
    "    }\n",
    "    \"\"\"\n",
    ")"
   ]
  },
  {
   "cell_type": "markdown",
   "id": "f5830326",
   "metadata": {},
   "source": [
    "## Filters"
   ]
  },
  {
   "cell_type": "code",
   "execution_count": 10,
   "id": "9515104c",
   "metadata": {},
   "outputs": [
    {
     "data": {
      "text/plain": [
       "{'reports': [{'title': 'Dealership AI Chatbot Sells Car for $1',\n",
       "   'url': 'https://www.colombiaone.com/2024/01/08/gm-dealership-chatbot-ai/',\n",
       "   'date_published': '2024-01-08T00:00:00.000Z'},\n",
       "  {'title': 'Lazy use of AI leads to Amazon products called “I cannot fulfill that request”',\n",
       "   'url': 'https://arstechnica.com/ai/2024/01/lazy-use-of-ai-leads-to-amazon-products-called-i-cannot-fulfill-that-request/',\n",
       "   'date_published': '2024-01-12T00:00:00.000Z'},\n",
       "  {'title': 'FTC Announces Groundbreaking Action Against Rite Aid for Unfair Use of AI',\n",
       "   'url': 'https://www.wilmerhale.com/en/insights/blogs/wilmerhale-privacy-and-cybersecurity-law/20240111-ftc-announces-groundbreaking-action-against-rite-aid-for-unfair-use-of-ai',\n",
       "   'date_published': '2024-01-11T00:00:00.000Z'},\n",
       "  {'title': 'Rite Aid Settles FTC Allegations Regarding Use of Facial Recognition Technology',\n",
       "   'url': 'https://www.insideprivacy.com/artificial-intelligence/rite-aid-settles-ftc-allegations-regarding-use-of-facial-recognition-technology/',\n",
       "   'date_published': '2024-01-05T00:00:00.000Z'},\n",
       "  {'title': 'AI models frequently ‘hallucinate’ on legal queries, study finds',\n",
       "   'url': 'https://thehill.com/policy/technology/4403776-ai-models-frequently-hallucinate-on-legal-queries-study-finds/',\n",
       "   'date_published': '2024-01-11T00:00:00.000Z'}]}"
      ]
     },
     "execution_count": 10,
     "metadata": {},
     "output_type": "execute_result"
    }
   ],
   "source": [
    "post_query(\n",
    "    \"\"\"\n",
    "    query {\n",
    "        reports(\n",
    "            pagination: { limit: 5 }, \n",
    "            filter: { date_published: { GTE: \"2024-01-01T00:00:00+00:00\" }}\n",
    "        ) {\n",
    "            title\n",
    "            url\n",
    "            date_published\n",
    "        }\n",
    "    }\n",
    "    \"\"\"\n",
    ")"
   ]
  },
  {
   "cell_type": "code",
   "execution_count": 11,
   "id": "c484dfa8",
   "metadata": {},
   "outputs": [
    {
     "data": {
      "text/plain": [
       "{'reports': [{'title': 'Temporary policy: ChatGPT is banned',\n",
       "   'url': 'https://meta.stackoverflow.com/questions/421831/temporary-policy-chatgpt-is-banned',\n",
       "   'date_published': '2022-12-05T00:00:00.000Z'},\n",
       "  {'title': 'ChatGPT proves that AI still has a racism problem',\n",
       "   'url': 'https://www.newstatesman.com/quickfire/2022/12/chatgpt-shows-ai-racism-problem',\n",
       "   'date_published': '2022-12-10T00:00:00.000Z'},\n",
       "  {'title': 'ChatGPT bot tricked into giving bomb-making instructions, say developers',\n",
       "   'url': 'https://www.thetimes.co.uk/article/chatgpt-bot-tricked-into-giving-bomb-making-instructions-say-developers-rvktrxqb5',\n",
       "   'date_published': '2022-12-17T00:00:00.000Z'},\n",
       "  {'title': \"Testing Ways to Bypass ChatGPT's Safety Features\",\n",
       "   'url': 'https://www.lesswrong.com/posts/7fYxxtZqjuYXhBA2D/testing-ways-to-bypass-chatgpt-s-safety-features',\n",
       "   'date_published': '2022-12-06T00:00:00.000Z'},\n",
       "  {'title': 'ChatGPT is being used to create malicious emails and code',\n",
       "   'url': 'https://www.techradar.com/news/chatgpt-is-being-used-to-create-malicious-emails-and-code',\n",
       "   'date_published': '2022-12-20T00:00:00.000Z'}]}"
      ]
     },
     "execution_count": 11,
     "metadata": {},
     "output_type": "execute_result"
    }
   ],
   "source": [
    "post_query(\n",
    "    \"\"\"\n",
    "    query {\n",
    "        reports(\n",
    "            pagination: { limit: 5 }, \n",
    "            filter: { \n",
    "                date_published: {\n",
    "                    GTE: \"2022-01-01T00:00:00+00:00\",\n",
    "                    LTE: \"2023-01-01T00:00:00+00:00\"\n",
    "                },\n",
    "                title: { REGEX: \"ChatGPT\" }\n",
    "            }\n",
    "        ) {\n",
    "            title\n",
    "            url\n",
    "            date_published\n",
    "        }\n",
    "    }\n",
    "    \"\"\"\n",
    ")"
   ]
  },
  {
   "cell_type": "markdown",
   "id": "07f07fec",
   "metadata": {},
   "source": [
    "## Comparing count of articles with given keywords over time"
   ]
  },
  {
   "cell_type": "code",
   "execution_count": 12,
   "id": "e2c99a7c",
   "metadata": {},
   "outputs": [],
   "source": [
    "keyword_in_date_range_query = \"\"\"\n",
    "query ($keyword: String, $published_gte: DateTime, $published_lt: DateTime) {\n",
    "  reports(\n",
    "    filter: {\n",
    "      plain_text: { REGEX: $keyword },\n",
    "      date_published: {\n",
    "        GTE: $published_gte,\n",
    "        LT: $published_lt\n",
    "      }\n",
    "    }\n",
    "  ) {\n",
    "    title\n",
    "  }\n",
    "}\n",
    "\"\"\""
   ]
  },
  {
   "cell_type": "code",
   "execution_count": 13,
   "id": "1892f87a",
   "metadata": {},
   "outputs": [
    {
     "name": "stdout",
     "output_type": "stream",
     "text": [
      "1126\n"
     ]
    }
   ],
   "source": [
    "ai_2020_2024 = post_query(\n",
    "    keyword_in_date_range_query, \n",
    "    variables={\n",
    "        'keyword': \"\\\\W(?i)ai\\\\W\",\n",
    "        'published_gte': \"2020-01-01T00:00:00+00:00\",\n",
    "        'published_lt': \"2024-01-01T00:00:00+00:00\",\n",
    "    }\n",
    ")\n",
    "print(len(ai_2020_2024['reports']))"
   ]
  },
  {
   "cell_type": "code",
   "execution_count": 14,
   "id": "94d20c9e",
   "metadata": {},
   "outputs": [
    {
     "name": "stdout",
     "output_type": "stream",
     "text": [
      "2008-2012\n",
      "   artificial intelligence 0\n",
      "   machine learning 0\n",
      "\n",
      "2012-2016\n",
      "   artificial intelligence 15\n",
      "   machine learning 11\n",
      "\n",
      "2016-2020\n",
      "   artificial intelligence 226\n",
      "   machine learning 150\n",
      "\n",
      "2020-2024\n",
      "   artificial intelligence 701\n",
      "   machine learning 167\n",
      "\n"
     ]
    }
   ],
   "source": [
    "for year in range(2008, 2024, 4):\n",
    "    lower = str(year)\n",
    "    upper = str(year + 4)\n",
    "    print(lower + \"-\" + upper)\n",
    "    for keyword in \"artificial intelligence\", \"machine learning\":\n",
    "        data = post_query(\n",
    "            keyword_in_date_range_query, \n",
    "            variables={\n",
    "                'keyword': \"\\\\W(?i)\" + keyword +\"\\\\W\",\n",
    "                'published_gte': lower + \"-01-01T00:00:00+00:00\",\n",
    "                'published_lt': upper + \"-01-01T00:00:00+00:00\",\n",
    "            }\n",
    "        )\n",
    "        print('  ', keyword, len(data['reports']))\n",
    "    print() "
   ]
  }
 ],
 "metadata": {
  "kernelspec": {
   "display_name": "Python 3 (ipykernel)",
   "language": "python",
   "name": "python3"
  },
  "language_info": {
   "codemirror_mode": {
    "name": "ipython",
    "version": 3
   },
   "file_extension": ".py",
   "mimetype": "text/x-python",
   "name": "python",
   "nbconvert_exporter": "python",
   "pygments_lexer": "ipython3",
   "version": "3.11.2"
  }
 },
 "nbformat": 4,
 "nbformat_minor": 5
}
